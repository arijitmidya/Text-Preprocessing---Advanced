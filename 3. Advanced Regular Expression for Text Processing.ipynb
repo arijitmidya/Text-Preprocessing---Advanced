{
 "cells": [
  {
   "cell_type": "markdown",
   "id": "54528541-bf36-4637-a687-16be3214b8a1",
   "metadata": {},
   "source": [
    "# 1. Groupings\n",
    "\n",
    "We use groupings to create subpatterns within a larger pattern to match, capture, and backreference text. There are two types of groupings in regex: \n",
    "capturing groups that capture the matched subpatterns and save them for referencing later in the pattern or in a replacement string, and non-capturing\n",
    "groups that we use to group subpatterns without storing them for later use. We represent capturing groups using parentheses (), and non-capturing groups \n",
    "using (?:)."
   ]
  },
  {
   "cell_type": "code",
   "execution_count": 6,
   "id": "9b20d661-ec18-454d-9f0b-6c00ad438de5",
   "metadata": {},
   "outputs": [
    {
     "data": {
      "text/html": [
       "<div>\n",
       "<style scoped>\n",
       "    .dataframe tbody tr th:only-of-type {\n",
       "        vertical-align: middle;\n",
       "    }\n",
       "\n",
       "    .dataframe tbody tr th {\n",
       "        vertical-align: top;\n",
       "    }\n",
       "\n",
       "    .dataframe thead th {\n",
       "        text-align: right;\n",
       "    }\n",
       "</style>\n",
       "<table border=\"1\" class=\"dataframe\">\n",
       "  <thead>\n",
       "    <tr style=\"text-align: right;\">\n",
       "      <th></th>\n",
       "      <th>review_id</th>\n",
       "      <th>text</th>\n",
       "    </tr>\n",
       "  </thead>\n",
       "  <tbody>\n",
       "    <tr>\n",
       "      <th>0</th>\n",
       "      <td>txt1</td>\n",
       "      <td>I recently visited London, and the British Mus...</td>\n",
       "    </tr>\n",
       "    <tr>\n",
       "      <th>1</th>\n",
       "      <td>txt2</td>\n",
       "      <td>While exploring Edinburgh, I had the chance to...</td>\n",
       "    </tr>\n",
       "    <tr>\n",
       "      <th>2</th>\n",
       "      <td>txt3</td>\n",
       "      <td>During my stay in Oxford, I attended lectures ...</td>\n",
       "    </tr>\n",
       "    <tr>\n",
       "      <th>3</th>\n",
       "      <td>txt4</td>\n",
       "      <td>I watched a play at Shakespeare's Globe Theatr...</td>\n",
       "    </tr>\n",
       "    <tr>\n",
       "      <th>4</th>\n",
       "      <td>txt5</td>\n",
       "      <td>My favorite British author is Charles Dickens,...</td>\n",
       "    </tr>\n",
       "  </tbody>\n",
       "</table>\n",
       "</div>"
      ],
      "text/plain": [
       "  review_id                                               text\n",
       "0      txt1  I recently visited London, and the British Mus...\n",
       "1      txt2  While exploring Edinburgh, I had the chance to...\n",
       "2      txt3  During my stay in Oxford, I attended lectures ...\n",
       "3      txt4  I watched a play at Shakespeare's Globe Theatr...\n",
       "4      txt5  My favorite British author is Charles Dickens,..."
      ]
     },
     "execution_count": 6,
     "metadata": {},
     "output_type": "execute_result"
    }
   ],
   "source": [
    "# Read the necessary dataset\n",
    "import pandas as pd\n",
    "\n",
    "\n",
    "df = pd.read_csv(\"C:/Users/ariji/OneDrive/Desktop/Data/reviews_uk.csv\")\n",
    "df.head()"
   ]
  },
  {
   "cell_type": "code",
   "execution_count": 7,
   "id": "4ca531a5-b501-450c-9849-715678c2ddbb",
   "metadata": {},
   "outputs": [
    {
     "name": "stdout",
     "output_type": "stream",
     "text": [
      "I recently visited London, and the British Museum and Buckingham Palace were among the highlights of my trip.\n",
      " While exploring Edinburgh, I had the chance to try traditional haggis at a local restaurant and visit the historic Edinburgh Castle.\n",
      " During my stay in Oxford, I attended lectures at the prestigious University of Oxford and explored the charming Bodleian Library.\n",
      " I watched a play at Shakespeare's Globe Theatre in London, and the performance was outstanding.\n",
      " My favorite British author is Charles Dickens, and his novel 'Great Expectations' is a literary masterpiece.\n",
      " I traveled to Manchester, and the ancient stone circle left me in awe of its mysterious history.\n",
      " During my trip to Scotland, I explored the scenic Highlands and Loch Ness, hoping to catch a glimpse of the elusive Loch Ness Monster.\n",
      " I enjoyed a traditional afternoon tea in Windsor, where I had scones with clotted cream and visited Windsor Castle.\n",
      " I had a delightful fish and chips meal in a quaint English village by the seaside.\n",
      " London's West End theaters offer some of the best musicals and plays in the world, and I thoroughly enjoyed my theater experience.\n"
     ]
    }
   ],
   "source": [
    "\n",
    "text = \"\\n \".join(df['text'])\n",
    "print(text)"
   ]
  },
  {
   "cell_type": "code",
   "execution_count": 9,
   "id": "362686d1-d91e-4dfb-94f0-0e3be864fc39",
   "metadata": {},
   "outputs": [],
   "source": [
    "\"\"\"\n",
    "We define the author_regex regular expression pattern to match the phrase author is followed by a word (\\w+). We use the re.compile() function to compile\n",
    "the regular expression pattern into a regular expression object for later use in matching operations. We then use author_regex.search(text) to search\n",
    "for a match in text and store the result in author_match.\n",
    "\n",
    "We define and compile another regular expression pattern called location_regex to match the phrase Shakespeare's Globe Theatre in followed by a\n",
    "word (\\w+), and use location_regex.search(text) to search for a match in text and store the result in location_match.\n",
    "\n",
    "We define and compile a regular expression pattern travel_regex to match either the word visited or visit or the phrase traveled to , and \n",
    "use color_regex.findall(text) to find all non-overlapping matches in text and store the results in travel_matches.\n",
    "\n",
    "\"\"\"\n",
    "import re\n",
    "\n",
    "author_regex = re.compile(r\"author is (\\w+)\")\n",
    "author_match = author_regex.search(text)\n",
    "location_regex = re.compile(r\"Shakespeare's Globe Theatre in (\\w+)\")\n",
    "location_match = location_regex.search(text)\n",
    "travel_regex = re.compile(r\"(?:visited|visit|traveled to)\")\n",
    "travel_matches = travel_regex.findall(text)"
   ]
  },
  {
   "cell_type": "code",
   "execution_count": 10,
   "id": "a2832ca1-55d8-4c46-ad52-d105f4c04e57",
   "metadata": {},
   "outputs": [
    {
     "name": "stdout",
     "output_type": "stream",
     "text": [
      "Capturing group result 1: <re.Match object; span=(493, 510), match='author is Charles'>\n",
      "author is Charles\n",
      "\n",
      "Capturing group result 2: <re.Match object; span=(396, 433), match=\"Shakespeare's Globe Theatre in London\">\n",
      "Shakespeare's Globe Theatre in London\n",
      "\n",
      "Non-capturing group result: ['visited', 'visit', 'traveled to', 'visited']\n",
      "Different synonym of travel: visited, visit, traveled to, visited\n"
     ]
    }
   ],
   "source": [
    "print(\"Capturing group result 1:\", author_match)\n",
    "print(f\"author is {author_match.group(1)}\\n\")\n",
    "print(\"Capturing group result 2:\", location_match)\n",
    "print(f\"Shakespeare's Globe Theatre in {location_match.group(1)}\\n\")\n",
    "print(\"Non-capturing group result:\", travel_matches)\n",
    "print(f\"Different synonym of travel: {', '.join(travel_matches)}\") "
   ]
  },
  {
   "cell_type": "markdown",
   "id": "f72517f9-5dac-4b39-94a9-d7c4cf3964a3",
   "metadata": {},
   "source": [
    "# 2. Lookarounds\n",
    "\n",
    "We use lookarounds (also known as assertions) to assert that a pattern is preceded or followed by another pattern without including the preceding or\n",
    "following pattern in the match. There are two types—lookaheads, and lookbehinds—and they can be either positive or negative.\n",
    "\n",
    "Positive lookahead (?=...): This lookaround asserts that the succeeding characters must match the pattern inside the lookahead but doesn’t include them\n",
    "in the match result. For example, foo(?=bar) would match foo only if it’s followed by bar, but bar would not be included in the match result.\n",
    "\n",
    "Negative lookahead (?!...): This lookaround asserts that the succeeding characters must not match the pattern inside the lookahead. We use it to \n",
    "specify a negative condition that must not be met. For example, foo(?!bar) would match foo only if it’s not followed by bar.\n",
    "\n",
    "Positive lookbehind (?<=...): This lookaround asserts that the preceding characters must match the pattern inside the lookbehind but doesn’t include\n",
    "them in the match result. For example, (?<=foo)bar would match bar only if it’s preceded by foo, but foo would not be included in the match result.\n",
    "\n",
    "Negative lookbehind (?<!...): This lookaround asserts that the preceding characters must not match the pattern inside the lookbehind. We use them to \n",
    "specify a negative condition that must not be met. For example, (?<!foo)bar would match bar only if it’s not preceded by foo.\n",
    "\n"
   ]
  },
  {
   "cell_type": "code",
   "execution_count": 11,
   "id": "b62ebba9-d461-4325-8e88-0eb9eed7e2bc",
   "metadata": {},
   "outputs": [
    {
     "data": {
      "text/html": [
       "<div>\n",
       "<style scoped>\n",
       "    .dataframe tbody tr th:only-of-type {\n",
       "        vertical-align: middle;\n",
       "    }\n",
       "\n",
       "    .dataframe tbody tr th {\n",
       "        vertical-align: top;\n",
       "    }\n",
       "\n",
       "    .dataframe thead th {\n",
       "        text-align: right;\n",
       "    }\n",
       "</style>\n",
       "<table border=\"1\" class=\"dataframe\">\n",
       "  <thead>\n",
       "    <tr style=\"text-align: right;\">\n",
       "      <th></th>\n",
       "      <th>timestamp</th>\n",
       "      <th>username</th>\n",
       "      <th>feedback</th>\n",
       "      <th>label</th>\n",
       "    </tr>\n",
       "  </thead>\n",
       "  <tbody>\n",
       "    <tr>\n",
       "      <th>0</th>\n",
       "      <td>08-08-2023 10:00</td>\n",
       "      <td>@TechEnthusiast</td>\n",
       "      <td>The new telecom product offers amazing connect...</td>\n",
       "      <td>Positive</td>\n",
       "    </tr>\n",
       "    <tr>\n",
       "      <th>1</th>\n",
       "      <td>08-08-2023 10:15</td>\n",
       "      <td>@GadgetGuru</td>\n",
       "      <td>The new telecom product is a game-changer! It'...</td>\n",
       "      <td>Positive</td>\n",
       "    </tr>\n",
       "    <tr>\n",
       "      <th>2</th>\n",
       "      <td>08-08-2023 10:30</td>\n",
       "      <td>@FrequentCaller</td>\n",
       "      <td>I've noticed a significant improvement in call...</td>\n",
       "      <td>Positive</td>\n",
       "    </tr>\n",
       "    <tr>\n",
       "      <th>3</th>\n",
       "      <td>08-08-2023 10:45</td>\n",
       "      <td>@BusinessOwner</td>\n",
       "      <td>The new product has enhanced our business oper...</td>\n",
       "      <td>Positive</td>\n",
       "    </tr>\n",
       "    <tr>\n",
       "      <th>4</th>\n",
       "      <td>08-08-2023 11:00</td>\n",
       "      <td>@DigitalNomad</td>\n",
       "      <td>As a digital nomad, I rely on consistent inter...</td>\n",
       "      <td>Positive</td>\n",
       "    </tr>\n",
       "  </tbody>\n",
       "</table>\n",
       "</div>"
      ],
      "text/plain": [
       "          timestamp         username  \\\n",
       "0  08-08-2023 10:00  @TechEnthusiast   \n",
       "1  08-08-2023 10:15      @GadgetGuru   \n",
       "2  08-08-2023 10:30  @FrequentCaller   \n",
       "3  08-08-2023 10:45   @BusinessOwner   \n",
       "4  08-08-2023 11:00    @DigitalNomad   \n",
       "\n",
       "                                            feedback     label  \n",
       "0  The new telecom product offers amazing connect...  Positive  \n",
       "1  The new telecom product is a game-changer! It'...  Positive  \n",
       "2  I've noticed a significant improvement in call...  Positive  \n",
       "3  The new product has enhanced our business oper...  Positive  \n",
       "4  As a digital nomad, I rely on consistent inter...  Positive  "
      ]
     },
     "execution_count": 11,
     "metadata": {},
     "output_type": "execute_result"
    }
   ],
   "source": [
    "df = pd.read_csv(\"C:/Users/ariji/OneDrive/Desktop/Data/labeled_feedback.csv\")\n",
    "df.head()"
   ]
  },
  {
   "cell_type": "code",
   "execution_count": 24,
   "id": "fa1cf3f4-8634-4a6c-9663-6e57ce27b5ec",
   "metadata": {},
   "outputs": [],
   "source": [
    "\n",
    "\"\"\"\n",
    "We use a positive lookahead to find matches where the \\samazing pattern in df['feedback'] follows the text and store the result in match1.\n",
    "\n",
    "We use a positive lookahead to find matches where the lag-free. pattern follows the text in df['feedback'] and store the result in match2.\n",
    "\n",
    "We use a negative lookahead to find matches where the text is not followed by the problems pattern in df['feedback'] and store the result in match3.\n",
    "\n",
    "We use a negative lookahead to find matches where the text is not followed by the waste of pattern in df['feedback'] and store the result in match4.\n",
    "\n",
    "We use a positive lookbehind to find matches where the text is preceded by the satisfied pattern in df['feedback'] and store the result in match5.\n",
    "\n",
    "We use a positive lookbehind to find matches where the text is preceded by the great leader. pattern (“great leader” followed by a period) in\n",
    "df['feedback'] and store the result in match6.\n",
    "\n",
    "We use a negative lookbehind to find matches where the text is not preceded by the not satisfied pattern in df['feedback'] and store the result in \n",
    "match7.\n",
    "\n",
    "We use a negative lookbehind to find matches where the text is not preceded by the highly recommend it. pattern in df['feedback'] and store the result\n",
    "in match8.\n",
    "\n",
    "\"\"\"\n",
    "\n",
    "match1 = df['feedback'].str.contains(r\"(?=\\samazing)\", regex=True)\n",
    "match2 = df['feedback'].str.contains(r\"(?=lag-free\\.)\", regex=True)\n",
    "match3 = df['feedback'].str.contains(r\"(?!problems)\", regex=True)\n",
    "match4 = df['feedback'].str.contains(r\"(?!waste\\sof)\", regex=True)\n",
    "match5 = df['feedback'].str.contains(r\"(?<=satisfied\\s)\", regex=True)\n",
    "match6 = df['feedback'].str.contains(r\"(?<=great\\sleader\\.)\", regex=True)\n",
    "match7 = df['feedback'].str.contains(r\"(?<!not\\ssatisfied\\s)\", regex=True)\n",
    "match8 = df['feedback'].str.contains(r\"(?<!highly\\srecommend\\sit\\.)\", regex=True)"
   ]
  },
  {
   "cell_type": "code",
   "execution_count": 25,
   "id": "5eda9e34-5fb0-4e1c-b77f-695d47794526",
   "metadata": {},
   "outputs": [
    {
     "name": "stdout",
     "output_type": "stream",
     "text": [
      "Positive lookahead 1: [\"The new telecom product offers amazing connectivity and lightning-fast speeds. I'm thoroughly impressed!\"]\n",
      "\n",
      "Positive lookahead 2: [\"The new telecom product is a game-changer! It's made my online gaming experience so much smoother and lag-free.\"]\n",
      "\n",
      "Negative lookahead 1: [\"The new telecom product offers amazing connectivity and lightning-fast speeds. I'm thoroughly impressed!\", \"The new telecom product is a game-changer! It's made my online gaming experience so much smoother and lag-free.\", \"I've noticed a significant improvement in call quality and signal strength with the new telecom product. Great job!\", 'The new product has enhanced our business operations by providing reliable internet for all our devices. A must-have for any office.', 'As a digital nomad, I rely on consistent internet wherever I go. The new telecom product has kept me connected no matter where I am!', 'While the new product offers good speeds, I experienced occasional dropouts in my connection. Hoping for a fix soon.', 'Streaming videos and uploading content has never been smoother. The new telecom product has improved my online presence!', \"The new telecom product is fantastic, but the pricing seems a bit steep. I'd love to see more affordable options.\", 'I was hesitant at first, but the setup process was surprisingly easy. The new telecom product is user-friendly even for beginners like me.', \"I heavily rely on fast internet for my work, and the new product has exceeded my expectations. It's a definite upgrade.\", 'The new telecom product is like a blockbuster movie – thrilling and high-speed! A must-watch for all internet users.', 'Finally, a reliable internet solution that lives up to its promises. No more frustrating connection drops!', 'Binge-watching my favorite shows just got even better with the new telecom product. Streaming quality is top-notch!', \"Low latency and high bandwidth are a gamer's dream come true. The new product has definitely leveled up my gaming experience.\", \"For someone who doesn't use the internet extensively, the pricing seems a bit steep. More flexible plans would be appreciated.\", 'As someone who relies on data-intensive tasks, the new telecom product has made data transfer a breeze. Excellent performance!', 'Streaming movies in HD has never been smoother. The new product has taken my movie nights to the next level.', 'Impressive speeds and stable connection. The new telecom product has become an essential part of my tech setup.', 'As a remote worker, a dependable internet connection is crucial. The new product has significantly improved my productivity.', 'Uploading content for my channel used to be time-consuming. With the new telecom product, uploads are faster than ever!', 'While the speeds are good, I expected better customer support. Dealing with technical issues took longer than anticipated.', 'Streaming live content requires a reliable connection. The new telecom product has handled streaming without a hitch.', \"I jumped on board early with the new telecom product, and it hasn't disappointed. Connectivity has been seamless from day one.\", \"For someone who's always online, fast and consistent internet is a necessity. The new product has made my job much easier.\", 'As a professional, I appreciate products that make my life easier. The new telecom product has definitely boosted my efficiency.', 'Smooth online shopping experience thanks to the new telecom product. Faster page loads mean quicker purchases!', 'Editing high-definition videos requires speedy uploads and downloads. The new product has met all my video editing needs.', 'Developing and testing online games requires a stable connection. The new product has been a game-changer for me.', 'Managing a network demands reliable connectivity. The new telecom product has simplified my tasks and reduced downtime.', 'Even while on the move, the new product has allowed me to update my blog and engage with my followers seamlessly.', \"I'm all for great performance, but the pricing feels too high for my budget. More competitive pricing would be appreciated.\", 'In a household with multiple devices, consistent connectivity is essential. The new product has kept our family connected.', 'Analyzing large datasets requires fast data transfer. The new telecom product has made data analysis more efficient.', 'Binge-watching TV series is my guilty pleasure. Thanks to the new product, my binge sessions are uninterrupted.', 'As a freelancer, I need a reliable internet connection for client communications and project submissions. The new product has been great.', \"The product's performance is good, but it's not within my budget range. More cost-effective plans would make it more accessible.\", 'Staying connected while traveling is a challenge. The new product has ensured I can work and communicate on the go.', 'Teaching online classes requires stable video calls and reliable connectivity. The new product has been a great asset to my teaching.', \"I've been a subscriber since the launch, and I've seen consistent improvements in performance. The new product is worth the investment.\", 'Effective communication relies on a strong internet connection. The new telecom product has enhanced my communication efforts.', 'The new telecom product promised so much, but it failed to deliver. Frequent disconnections and slow speeds have left me frustrated.', \"I've experienced numerous technical issues since getting the new product. Customer support hasn't been able to provide a satisfactory solution.\", 'This new telecom product has turned into a nightmare. Unstable connections and constant dropouts make it nearly unusable.', \"I regret switching to the new telecom product. The performance is subpar, and I wish I hadn't invested in it.\", \"The new product's high price doesn't match the quality of service. I expected much more for the cost.\", \"I've had to deal with constant connection issues with the new product. It's frustrating and not what I signed up for.\", 'The promised fast speeds are nowhere to be seen. My internet is slower than before after switching to the new product.', \"I had high hopes for the new telecom product, but it's been a letdown. Unreliable connections and poor performance have disappointed me.\", \"I feel like I've wasted my money on the new product. The performance isn't any better than my previous service, and I'm frustrated.\", \"Dealing with customer support for the new product's problems has been a hassle. They've been unhelpful and slow to respond.\", \"The new product is simply unreliable. I can't count on it when I need a stable internet connection the most.\", \"I regret switching to the new product. My internet experience has taken a step back, and I'm considering reverting to my old service.\", 'Constant connectivity issues and slow speeds have made using the new telecom product a frustrating experience.', \"I'm a dissatisfied customer of the new product. It hasn't lived up to its promises, and I'm considering canceling my subscription.\", \"I can't recommend the new telecom product. The problems I've faced with it overshadow any potential benefits.\", \"The new product's performance has been consistently poor. Slow speeds and unreliable connections have made it frustrating to use.\", \"I'm an unhappy user of the new telecom product. It's been a disappointment in terms of both speed and reliability.\", \"Using the new product has been a frustrating experience. It's unreliable and often leaves me without a stable internet connection.\", \"I'm seriously considering switching back to my old service. The new product has been more trouble than it's worth.\"]\n",
      "\n",
      "Negative lookahead 2: [\"The new telecom product offers amazing connectivity and lightning-fast speeds. I'm thoroughly impressed!\", \"The new telecom product is a game-changer! It's made my online gaming experience so much smoother and lag-free.\", \"I've noticed a significant improvement in call quality and signal strength with the new telecom product. Great job!\", 'The new product has enhanced our business operations by providing reliable internet for all our devices. A must-have for any office.', 'As a digital nomad, I rely on consistent internet wherever I go. The new telecom product has kept me connected no matter where I am!', 'While the new product offers good speeds, I experienced occasional dropouts in my connection. Hoping for a fix soon.', 'Streaming videos and uploading content has never been smoother. The new telecom product has improved my online presence!', \"The new telecom product is fantastic, but the pricing seems a bit steep. I'd love to see more affordable options.\", 'I was hesitant at first, but the setup process was surprisingly easy. The new telecom product is user-friendly even for beginners like me.', \"I heavily rely on fast internet for my work, and the new product has exceeded my expectations. It's a definite upgrade.\", 'The new telecom product is like a blockbuster movie – thrilling and high-speed! A must-watch for all internet users.', 'Finally, a reliable internet solution that lives up to its promises. No more frustrating connection drops!', 'Binge-watching my favorite shows just got even better with the new telecom product. Streaming quality is top-notch!', \"Low latency and high bandwidth are a gamer's dream come true. The new product has definitely leveled up my gaming experience.\", \"For someone who doesn't use the internet extensively, the pricing seems a bit steep. More flexible plans would be appreciated.\", 'As someone who relies on data-intensive tasks, the new telecom product has made data transfer a breeze. Excellent performance!', 'Streaming movies in HD has never been smoother. The new product has taken my movie nights to the next level.', 'Impressive speeds and stable connection. The new telecom product has become an essential part of my tech setup.', 'As a remote worker, a dependable internet connection is crucial. The new product has significantly improved my productivity.', 'Uploading content for my channel used to be time-consuming. With the new telecom product, uploads are faster than ever!', 'While the speeds are good, I expected better customer support. Dealing with technical issues took longer than anticipated.', 'Streaming live content requires a reliable connection. The new telecom product has handled streaming without a hitch.', \"I jumped on board early with the new telecom product, and it hasn't disappointed. Connectivity has been seamless from day one.\", \"For someone who's always online, fast and consistent internet is a necessity. The new product has made my job much easier.\", 'As a professional, I appreciate products that make my life easier. The new telecom product has definitely boosted my efficiency.', 'Smooth online shopping experience thanks to the new telecom product. Faster page loads mean quicker purchases!', 'Editing high-definition videos requires speedy uploads and downloads. The new product has met all my video editing needs.', 'Developing and testing online games requires a stable connection. The new product has been a game-changer for me.', 'Managing a network demands reliable connectivity. The new telecom product has simplified my tasks and reduced downtime.', 'Even while on the move, the new product has allowed me to update my blog and engage with my followers seamlessly.', \"I'm all for great performance, but the pricing feels too high for my budget. More competitive pricing would be appreciated.\", 'In a household with multiple devices, consistent connectivity is essential. The new product has kept our family connected.', 'Analyzing large datasets requires fast data transfer. The new telecom product has made data analysis more efficient.', 'Binge-watching TV series is my guilty pleasure. Thanks to the new product, my binge sessions are uninterrupted.', 'As a freelancer, I need a reliable internet connection for client communications and project submissions. The new product has been great.', \"The product's performance is good, but it's not within my budget range. More cost-effective plans would make it more accessible.\", 'Staying connected while traveling is a challenge. The new product has ensured I can work and communicate on the go.', 'Teaching online classes requires stable video calls and reliable connectivity. The new product has been a great asset to my teaching.', \"I've been a subscriber since the launch, and I've seen consistent improvements in performance. The new product is worth the investment.\", 'Effective communication relies on a strong internet connection. The new telecom product has enhanced my communication efforts.', 'The new telecom product promised so much, but it failed to deliver. Frequent disconnections and slow speeds have left me frustrated.', \"I've experienced numerous technical issues since getting the new product. Customer support hasn't been able to provide a satisfactory solution.\", 'This new telecom product has turned into a nightmare. Unstable connections and constant dropouts make it nearly unusable.', \"I regret switching to the new telecom product. The performance is subpar, and I wish I hadn't invested in it.\", \"The new product's high price doesn't match the quality of service. I expected much more for the cost.\", \"I've had to deal with constant connection issues with the new product. It's frustrating and not what I signed up for.\", 'The promised fast speeds are nowhere to be seen. My internet is slower than before after switching to the new product.', \"I had high hopes for the new telecom product, but it's been a letdown. Unreliable connections and poor performance have disappointed me.\", \"I feel like I've wasted my money on the new product. The performance isn't any better than my previous service, and I'm frustrated.\", \"Dealing with customer support for the new product's problems has been a hassle. They've been unhelpful and slow to respond.\", \"The new product is simply unreliable. I can't count on it when I need a stable internet connection the most.\", \"I regret switching to the new product. My internet experience has taken a step back, and I'm considering reverting to my old service.\", 'Constant connectivity issues and slow speeds have made using the new telecom product a frustrating experience.', \"I'm a dissatisfied customer of the new product. It hasn't lived up to its promises, and I'm considering canceling my subscription.\", \"I can't recommend the new telecom product. The problems I've faced with it overshadow any potential benefits.\", \"The new product's performance has been consistently poor. Slow speeds and unreliable connections have made it frustrating to use.\", \"I'm an unhappy user of the new telecom product. It's been a disappointment in terms of both speed and reliability.\", \"Using the new product has been a frustrating experience. It's unreliable and often leaves me without a stable internet connection.\", \"I'm seriously considering switching back to my old service. The new product has been more trouble than it's worth.\"]\n",
      "\n",
      "Positive lookbehind 1: [\"I'm a dissatisfied customer of the new product. It hasn't lived up to its promises, and I'm considering canceling my subscription.\"]\n",
      "\n",
      "Positive lookbehind 2: []\n",
      "\n",
      "Negative lookbehind 1: [\"The new telecom product offers amazing connectivity and lightning-fast speeds. I'm thoroughly impressed!\", \"The new telecom product is a game-changer! It's made my online gaming experience so much smoother and lag-free.\", \"I've noticed a significant improvement in call quality and signal strength with the new telecom product. Great job!\", 'The new product has enhanced our business operations by providing reliable internet for all our devices. A must-have for any office.', 'As a digital nomad, I rely on consistent internet wherever I go. The new telecom product has kept me connected no matter where I am!', 'While the new product offers good speeds, I experienced occasional dropouts in my connection. Hoping for a fix soon.', 'Streaming videos and uploading content has never been smoother. The new telecom product has improved my online presence!', \"The new telecom product is fantastic, but the pricing seems a bit steep. I'd love to see more affordable options.\", 'I was hesitant at first, but the setup process was surprisingly easy. The new telecom product is user-friendly even for beginners like me.', \"I heavily rely on fast internet for my work, and the new product has exceeded my expectations. It's a definite upgrade.\", 'The new telecom product is like a blockbuster movie – thrilling and high-speed! A must-watch for all internet users.', 'Finally, a reliable internet solution that lives up to its promises. No more frustrating connection drops!', 'Binge-watching my favorite shows just got even better with the new telecom product. Streaming quality is top-notch!', \"Low latency and high bandwidth are a gamer's dream come true. The new product has definitely leveled up my gaming experience.\", \"For someone who doesn't use the internet extensively, the pricing seems a bit steep. More flexible plans would be appreciated.\", 'As someone who relies on data-intensive tasks, the new telecom product has made data transfer a breeze. Excellent performance!', 'Streaming movies in HD has never been smoother. The new product has taken my movie nights to the next level.', 'Impressive speeds and stable connection. The new telecom product has become an essential part of my tech setup.', 'As a remote worker, a dependable internet connection is crucial. The new product has significantly improved my productivity.', 'Uploading content for my channel used to be time-consuming. With the new telecom product, uploads are faster than ever!', 'While the speeds are good, I expected better customer support. Dealing with technical issues took longer than anticipated.', 'Streaming live content requires a reliable connection. The new telecom product has handled streaming without a hitch.', \"I jumped on board early with the new telecom product, and it hasn't disappointed. Connectivity has been seamless from day one.\", \"For someone who's always online, fast and consistent internet is a necessity. The new product has made my job much easier.\", 'As a professional, I appreciate products that make my life easier. The new telecom product has definitely boosted my efficiency.', 'Smooth online shopping experience thanks to the new telecom product. Faster page loads mean quicker purchases!', 'Editing high-definition videos requires speedy uploads and downloads. The new product has met all my video editing needs.', 'Developing and testing online games requires a stable connection. The new product has been a game-changer for me.', 'Managing a network demands reliable connectivity. The new telecom product has simplified my tasks and reduced downtime.', 'Even while on the move, the new product has allowed me to update my blog and engage with my followers seamlessly.', \"I'm all for great performance, but the pricing feels too high for my budget. More competitive pricing would be appreciated.\", 'In a household with multiple devices, consistent connectivity is essential. The new product has kept our family connected.', 'Analyzing large datasets requires fast data transfer. The new telecom product has made data analysis more efficient.', 'Binge-watching TV series is my guilty pleasure. Thanks to the new product, my binge sessions are uninterrupted.', 'As a freelancer, I need a reliable internet connection for client communications and project submissions. The new product has been great.', \"The product's performance is good, but it's not within my budget range. More cost-effective plans would make it more accessible.\", 'Staying connected while traveling is a challenge. The new product has ensured I can work and communicate on the go.', 'Teaching online classes requires stable video calls and reliable connectivity. The new product has been a great asset to my teaching.', \"I've been a subscriber since the launch, and I've seen consistent improvements in performance. The new product is worth the investment.\", 'Effective communication relies on a strong internet connection. The new telecom product has enhanced my communication efforts.', 'The new telecom product promised so much, but it failed to deliver. Frequent disconnections and slow speeds have left me frustrated.', \"I've experienced numerous technical issues since getting the new product. Customer support hasn't been able to provide a satisfactory solution.\", 'This new telecom product has turned into a nightmare. Unstable connections and constant dropouts make it nearly unusable.', \"I regret switching to the new telecom product. The performance is subpar, and I wish I hadn't invested in it.\", \"The new product's high price doesn't match the quality of service. I expected much more for the cost.\", \"I've had to deal with constant connection issues with the new product. It's frustrating and not what I signed up for.\", 'The promised fast speeds are nowhere to be seen. My internet is slower than before after switching to the new product.', \"I had high hopes for the new telecom product, but it's been a letdown. Unreliable connections and poor performance have disappointed me.\", \"I feel like I've wasted my money on the new product. The performance isn't any better than my previous service, and I'm frustrated.\", \"Dealing with customer support for the new product's problems has been a hassle. They've been unhelpful and slow to respond.\", \"The new product is simply unreliable. I can't count on it when I need a stable internet connection the most.\", \"I regret switching to the new product. My internet experience has taken a step back, and I'm considering reverting to my old service.\", 'Constant connectivity issues and slow speeds have made using the new telecom product a frustrating experience.', \"I'm a dissatisfied customer of the new product. It hasn't lived up to its promises, and I'm considering canceling my subscription.\", \"I can't recommend the new telecom product. The problems I've faced with it overshadow any potential benefits.\", \"The new product's performance has been consistently poor. Slow speeds and unreliable connections have made it frustrating to use.\", \"I'm an unhappy user of the new telecom product. It's been a disappointment in terms of both speed and reliability.\", \"Using the new product has been a frustrating experience. It's unreliable and often leaves me without a stable internet connection.\", \"I'm seriously considering switching back to my old service. The new product has been more trouble than it's worth.\"]\n",
      "\n",
      "Negative lookbehind 2: [\"The new telecom product offers amazing connectivity and lightning-fast speeds. I'm thoroughly impressed!\", \"The new telecom product is a game-changer! It's made my online gaming experience so much smoother and lag-free.\", \"I've noticed a significant improvement in call quality and signal strength with the new telecom product. Great job!\", 'The new product has enhanced our business operations by providing reliable internet for all our devices. A must-have for any office.', 'As a digital nomad, I rely on consistent internet wherever I go. The new telecom product has kept me connected no matter where I am!', 'While the new product offers good speeds, I experienced occasional dropouts in my connection. Hoping for a fix soon.', 'Streaming videos and uploading content has never been smoother. The new telecom product has improved my online presence!', \"The new telecom product is fantastic, but the pricing seems a bit steep. I'd love to see more affordable options.\", 'I was hesitant at first, but the setup process was surprisingly easy. The new telecom product is user-friendly even for beginners like me.', \"I heavily rely on fast internet for my work, and the new product has exceeded my expectations. It's a definite upgrade.\", 'The new telecom product is like a blockbuster movie – thrilling and high-speed! A must-watch for all internet users.', 'Finally, a reliable internet solution that lives up to its promises. No more frustrating connection drops!', 'Binge-watching my favorite shows just got even better with the new telecom product. Streaming quality is top-notch!', \"Low latency and high bandwidth are a gamer's dream come true. The new product has definitely leveled up my gaming experience.\", \"For someone who doesn't use the internet extensively, the pricing seems a bit steep. More flexible plans would be appreciated.\", 'As someone who relies on data-intensive tasks, the new telecom product has made data transfer a breeze. Excellent performance!', 'Streaming movies in HD has never been smoother. The new product has taken my movie nights to the next level.', 'Impressive speeds and stable connection. The new telecom product has become an essential part of my tech setup.', 'As a remote worker, a dependable internet connection is crucial. The new product has significantly improved my productivity.', 'Uploading content for my channel used to be time-consuming. With the new telecom product, uploads are faster than ever!', 'While the speeds are good, I expected better customer support. Dealing with technical issues took longer than anticipated.', 'Streaming live content requires a reliable connection. The new telecom product has handled streaming without a hitch.', \"I jumped on board early with the new telecom product, and it hasn't disappointed. Connectivity has been seamless from day one.\", \"For someone who's always online, fast and consistent internet is a necessity. The new product has made my job much easier.\", 'As a professional, I appreciate products that make my life easier. The new telecom product has definitely boosted my efficiency.', 'Smooth online shopping experience thanks to the new telecom product. Faster page loads mean quicker purchases!', 'Editing high-definition videos requires speedy uploads and downloads. The new product has met all my video editing needs.', 'Developing and testing online games requires a stable connection. The new product has been a game-changer for me.', 'Managing a network demands reliable connectivity. The new telecom product has simplified my tasks and reduced downtime.', 'Even while on the move, the new product has allowed me to update my blog and engage with my followers seamlessly.', \"I'm all for great performance, but the pricing feels too high for my budget. More competitive pricing would be appreciated.\", 'In a household with multiple devices, consistent connectivity is essential. The new product has kept our family connected.', 'Analyzing large datasets requires fast data transfer. The new telecom product has made data analysis more efficient.', 'Binge-watching TV series is my guilty pleasure. Thanks to the new product, my binge sessions are uninterrupted.', 'As a freelancer, I need a reliable internet connection for client communications and project submissions. The new product has been great.', \"The product's performance is good, but it's not within my budget range. More cost-effective plans would make it more accessible.\", 'Staying connected while traveling is a challenge. The new product has ensured I can work and communicate on the go.', 'Teaching online classes requires stable video calls and reliable connectivity. The new product has been a great asset to my teaching.', \"I've been a subscriber since the launch, and I've seen consistent improvements in performance. The new product is worth the investment.\", 'Effective communication relies on a strong internet connection. The new telecom product has enhanced my communication efforts.', 'The new telecom product promised so much, but it failed to deliver. Frequent disconnections and slow speeds have left me frustrated.', \"I've experienced numerous technical issues since getting the new product. Customer support hasn't been able to provide a satisfactory solution.\", 'This new telecom product has turned into a nightmare. Unstable connections and constant dropouts make it nearly unusable.', \"I regret switching to the new telecom product. The performance is subpar, and I wish I hadn't invested in it.\", \"The new product's high price doesn't match the quality of service. I expected much more for the cost.\", \"I've had to deal with constant connection issues with the new product. It's frustrating and not what I signed up for.\", 'The promised fast speeds are nowhere to be seen. My internet is slower than before after switching to the new product.', \"I had high hopes for the new telecom product, but it's been a letdown. Unreliable connections and poor performance have disappointed me.\", \"I feel like I've wasted my money on the new product. The performance isn't any better than my previous service, and I'm frustrated.\", \"Dealing with customer support for the new product's problems has been a hassle. They've been unhelpful and slow to respond.\", \"The new product is simply unreliable. I can't count on it when I need a stable internet connection the most.\", \"I regret switching to the new product. My internet experience has taken a step back, and I'm considering reverting to my old service.\", 'Constant connectivity issues and slow speeds have made using the new telecom product a frustrating experience.', \"I'm a dissatisfied customer of the new product. It hasn't lived up to its promises, and I'm considering canceling my subscription.\", \"I can't recommend the new telecom product. The problems I've faced with it overshadow any potential benefits.\", \"The new product's performance has been consistently poor. Slow speeds and unreliable connections have made it frustrating to use.\", \"I'm an unhappy user of the new telecom product. It's been a disappointment in terms of both speed and reliability.\", \"Using the new product has been a frustrating experience. It's unreliable and often leaves me without a stable internet connection.\", \"I'm seriously considering switching back to my old service. The new product has been more trouble than it's worth.\"]\n"
     ]
    }
   ],
   "source": [
    "\n",
    "print(\"Positive lookahead 1:\", df[match1]['feedback'].tolist())\n",
    "print(\"\\nPositive lookahead 2:\", df[match2]['feedback'].tolist())\n",
    "print(\"\\nNegative lookahead 1:\", df[match3]['feedback'].tolist())\n",
    "print(\"\\nNegative lookahead 2:\", df[match4]['feedback'].tolist())\n",
    "print(\"\\nPositive lookbehind 1:\", df[match5]['feedback'].tolist())\n",
    "print(\"\\nPositive lookbehind 2:\", df[match6]['feedback'].tolist())\n",
    "print(\"\\nNegative lookbehind 1:\", df[match7]['feedback'].tolist())\n",
    "print(\"\\nNegative lookbehind 2:\", df[match8]['feedback'].tolist())"
   ]
  },
  {
   "cell_type": "code",
   "execution_count": null,
   "id": "13e410ae-3b80-4dcc-81e8-0b8025201cc4",
   "metadata": {},
   "outputs": [],
   "source": []
  },
  {
   "cell_type": "code",
   "execution_count": null,
   "id": "8e42731f-1fde-48ff-8edc-f53e301d579d",
   "metadata": {},
   "outputs": [],
   "source": []
  },
  {
   "cell_type": "code",
   "execution_count": null,
   "id": "9fc858c8-d97a-4c84-a326-0e8d6ebfcdcc",
   "metadata": {},
   "outputs": [],
   "source": []
  },
  {
   "cell_type": "code",
   "execution_count": null,
   "id": "be711ba9-aa65-40c9-b6ee-be1d71072c0b",
   "metadata": {},
   "outputs": [],
   "source": []
  },
  {
   "cell_type": "code",
   "execution_count": null,
   "id": "30d51fa2-1989-45dc-84d3-6532e5159a5c",
   "metadata": {},
   "outputs": [],
   "source": []
  },
  {
   "cell_type": "code",
   "execution_count": null,
   "id": "4e25d408-4478-4c38-9328-462d6f81e136",
   "metadata": {},
   "outputs": [],
   "source": []
  },
  {
   "cell_type": "code",
   "execution_count": null,
   "id": "23abce29-c031-48c6-ac58-7fe32c8441b5",
   "metadata": {},
   "outputs": [],
   "source": []
  },
  {
   "cell_type": "code",
   "execution_count": null,
   "id": "44b174a5-18f0-45a7-9d73-625c2efad645",
   "metadata": {},
   "outputs": [],
   "source": []
  },
  {
   "cell_type": "code",
   "execution_count": null,
   "id": "e2ad354e-63a4-44d1-bf2d-696780f26c38",
   "metadata": {},
   "outputs": [],
   "source": []
  },
  {
   "cell_type": "code",
   "execution_count": null,
   "id": "afd0d4fc-a2ed-4890-88ae-603b3d49ad27",
   "metadata": {},
   "outputs": [],
   "source": []
  }
 ],
 "metadata": {
  "kernelspec": {
   "display_name": "Python 3 (ipykernel)",
   "language": "python",
   "name": "python3"
  },
  "language_info": {
   "codemirror_mode": {
    "name": "ipython",
    "version": 3
   },
   "file_extension": ".py",
   "mimetype": "text/x-python",
   "name": "python",
   "nbconvert_exporter": "python",
   "pygments_lexer": "ipython3",
   "version": "3.11.7"
  }
 },
 "nbformat": 4,
 "nbformat_minor": 5
}
