{
 "cells": [
  {
   "attachments": {
    "49e74283-71d6-42b5-9c51-bd093efc180e.png": {
     "image/png": "[encoded data removed]"
    }
   },
   "cell_type": "markdown",
   "id": "217f9190-e085-45ab-9f32-4b2005a8280d",
   "metadata": {},
   "source": [
    "# Feature scaling \n",
    "\n",
    "Feature scaling is a text preprocessing technique that ensures that different features in a dataset are on a similar scale to improve the performance \n",
    "of machine-learning models. It’s important to note that we don’t apply it directly to text. Instead, we apply it to the result of other text \n",
    "representation techniques, such as BoW or TF-IDF. These techniques convert the text into numerical representations, to which we can later apply \n",
    "feature scaling.\n",
    "\n",
    "Reasons for feature scaling : \n",
    "\n",
    " ![image.png](attachment:49e74283-71d6-42b5-9c51-bd093efc180e.png)"
   ]
  },
  {
   "cell_type": "code",
   "execution_count": 5,
   "id": "b92a9085-7c9e-4f55-80fd-c5e0342ec0d7",
   "metadata": {},
   "outputs": [
    {
     "data": {
      "text/plain": [
       "'\\nLet’s now explore feature scaling using Python. We’ll use the TfidfVectorizer() method, which is a common text representation technique, to transform \\nthe text data into numerical TF-IDF features. Later, we will perform feature scaling by applying min-max scaling using the MinMaxScaler() method to\\nthese TF-IDF features. This type of scaling will transform the text representation values to a specific range (usually [0, 1]).\\n\\n'"
      ]
     },
     "execution_count": 5,
     "metadata": {},
     "output_type": "execute_result"
    }
   ],
   "source": [
    "\"\"\"\n",
    "Let’s now explore feature scaling using Python. We’ll use the TfidfVectorizer() method, which is a common text representation technique, to transform \n",
    "the text data into numerical TF-IDF features. Later, we will perform feature scaling by applying min-max scaling using the MinMaxScaler() method to\n",
    "these TF-IDF features. This type of scaling will transform the text representation values to a specific range (usually [0, 1]).\n",
    "\n",
    "\"\"\""
   ]
  },
  {
   "cell_type": "code",
   "execution_count": 1,
   "id": "f9853bc0-40c7-4c35-8758-a8112157a608",
   "metadata": {},
   "outputs": [],
   "source": [
    "import pandas as pd\n",
    "from sklearn.feature_extraction.text import TfidfVectorizer\n",
    "from sklearn.preprocessing import MinMaxScaler"
   ]
  },
  {
   "cell_type": "code",
   "execution_count": 2,
   "id": "f6c4763f-4d1b-4773-a850-c13fe49d98e5",
   "metadata": {},
   "outputs": [
    {
     "data": {
      "text/html": [
       "<div>\n",
       "<style scoped>\n",
       "    .dataframe tbody tr th:only-of-type {\n",
       "        vertical-align: middle;\n",
       "    }\n",
       "\n",
       "    .dataframe tbody tr th {\n",
       "        vertical-align: top;\n",
       "    }\n",
       "\n",
       "    .dataframe thead th {\n",
       "        text-align: right;\n",
       "    }\n",
       "</style>\n",
       "<table border=\"1\" class=\"dataframe\">\n",
       "  <thead>\n",
       "    <tr style=\"text-align: right;\">\n",
       "      <th></th>\n",
       "      <th>review_id</th>\n",
       "      <th>text</th>\n",
       "    </tr>\n",
       "  </thead>\n",
       "  <tbody>\n",
       "    <tr>\n",
       "      <th>0</th>\n",
       "      <td>txt145</td>\n",
       "      <td>The software had a steep learning curve at fir...</td>\n",
       "    </tr>\n",
       "    <tr>\n",
       "      <th>1</th>\n",
       "      <td>txt327</td>\n",
       "      <td>I'm really impressed with the user interface o...</td>\n",
       "    </tr>\n",
       "    <tr>\n",
       "      <th>2</th>\n",
       "      <td>txt209</td>\n",
       "      <td>The latest update to the software fixed severa...</td>\n",
       "    </tr>\n",
       "    <tr>\n",
       "      <th>3</th>\n",
       "      <td>txt825</td>\n",
       "      <td>I encountered a few glitches while using the s...</td>\n",
       "    </tr>\n",
       "    <tr>\n",
       "      <th>4</th>\n",
       "      <td>txt878</td>\n",
       "      <td>I was skeptical about trying the software init...</td>\n",
       "    </tr>\n",
       "  </tbody>\n",
       "</table>\n",
       "</div>"
      ],
      "text/plain": [
       "  review_id                                               text\n",
       "0    txt145  The software had a steep learning curve at fir...\n",
       "1    txt327  I'm really impressed with the user interface o...\n",
       "2    txt209  The latest update to the software fixed severa...\n",
       "3    txt825  I encountered a few glitches while using the s...\n",
       "4    txt878  I was skeptical about trying the software init..."
      ]
     },
     "execution_count": 2,
     "metadata": {},
     "output_type": "execute_result"
    }
   ],
   "source": [
    "# Read the necessary dataset\n",
    "\n",
    "df = pd.read_csv(\"C:/Users/ariji/OneDrive/Desktop/Data/reviews.csv\")\n",
    "df.head()"
   ]
  },
  {
   "cell_type": "code",
   "execution_count": 3,
   "id": "faeb4869-ff41-4f8e-a5fd-66b30c2b3827",
   "metadata": {},
   "outputs": [
    {
     "name": "stdout",
     "output_type": "stream",
     "text": [
      "Scaled TF-IDF Features:\n",
      "[[0.         0.         0.         ... 0.         0.94824294 0.        ]\n",
      " [0.         0.         0.         ... 0.         0.         1.        ]\n",
      " [0.         0.         0.         ... 0.         0.         0.        ]\n",
      " ...\n",
      " [0.         0.         0.         ... 0.         1.         0.        ]\n",
      " [0.         0.         0.         ... 0.         0.         0.        ]\n",
      " [0.         0.         0.         ... 0.         0.         0.        ]]\n"
     ]
    }
   ],
   "source": [
    "tfidf_vectorizer = TfidfVectorizer()\n",
    "tfidf_features = tfidf_vectorizer.fit_transform(df['text'])\n",
    "min_max_scaler = MinMaxScaler()\n",
    "scaled_tfidf_features = min_max_scaler.fit_transform(tfidf_features.toarray())\n",
    "print(\"Scaled TF-IDF Features:\")\n",
    "print(scaled_tfidf_features)"
   ]
  },
  {
   "cell_type": "code",
   "execution_count": 4,
   "id": "eb7b2d17-8c3a-41ad-9a5a-b4c6f6ef60d0",
   "metadata": {},
   "outputs": [
    {
     "data": {
      "text/plain": [
       "(16, 150)"
      ]
     },
     "execution_count": 4,
     "metadata": {},
     "output_type": "execute_result"
    }
   ],
   "source": [
    "scaled_tfidf_features.shape"
   ]
  },
  {
   "cell_type": "code",
   "execution_count": null,
   "id": "3c4f2793-faec-4bcc-a0fb-ae46a8764f42",
   "metadata": {},
   "outputs": [],
   "source": []
  },
  {
   "cell_type": "code",
   "execution_count": null,
   "id": "32984108-f281-461a-803c-26d25956f378",
   "metadata": {},
   "outputs": [],
   "source": []
  },
  {
   "cell_type": "code",
   "execution_count": null,
   "id": "dfd432bc-a132-41ca-8b74-965608bba10b",
   "metadata": {},
   "outputs": [],
   "source": []
  },
  {
   "cell_type": "code",
   "execution_count": null,
   "id": "a2451e42-3034-407d-846c-6e330eb1169f",
   "metadata": {},
   "outputs": [],
   "source": []
  },
  {
   "cell_type": "code",
   "execution_count": null,
   "id": "a98b0892-8ce6-466e-8457-ceb8190d5682",
   "metadata": {},
   "outputs": [],
   "source": []
  },
  {
   "cell_type": "code",
   "execution_count": null,
   "id": "a3c7d1e7-1c15-4c97-bdd2-a5003821c1d4",
   "metadata": {},
   "outputs": [],
   "source": []
  }
 ],
 "metadata": {
  "kernelspec": {
   "display_name": "Python 3 (ipykernel)",
   "language": "python",
   "name": "python3"
  },
  "language_info": {
   "codemirror_mode": {
    "name": "ipython",
    "version": 3
   },
   "file_extension": ".py",
   "mimetype": "text/x-python",
   "name": "python",
   "nbconvert_exporter": "python",
   "pygments_lexer": "ipython3",
   "version": "3.11.7"
  }
 },
 "nbformat": 4,
 "nbformat_minor": 5
}
