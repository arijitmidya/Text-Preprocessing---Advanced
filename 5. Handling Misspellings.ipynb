{
 "cells": [
  {
   "cell_type": "markdown",
   "id": "a9d687d4-bf01-4b53-80dd-c03a4a4dfdf4",
   "metadata": {},
   "source": [
    "# Misspellings\n",
    "\n",
    "Misspellings are typographical errors that occur when a word is not spelled correctly, and various factors, including typing errors, auto-correction \n",
    "software, and language barriers, can cause them. They can be found in social media posts, emails, online articles, blogs, etc. Even formal, official \n",
    "text sources, such as business documents and academic papers, can have misspellings, although finding such is rare.\n",
    "\n"
   ]
  },
  {
   "cell_type": "markdown",
   "id": "ee1fd0f5-133b-45ef-9080-dd072118e5ef",
   "metadata": {},
   "source": [
    "# 1. Spell-checking\n",
    "\n",
    "Spell-checking is a valuable technique for handling misspellings, and it involves identifying and correcting misspelled words to improve the quality of \n",
    "the text data. Python offers several libraries for spell-checking, such as TextBlob and PySpellChecker."
   ]
  },
  {
   "cell_type": "code",
   "execution_count": 2,
   "id": "631bab70-86ec-4707-9a91-3c99a82cdeb3",
   "metadata": {},
   "outputs": [
    {
     "name": "stdout",
     "output_type": "stream",
     "text": [
      "Collecting textblob\n",
      "  Downloading textblob-0.18.0.post0-py3-none-any.whl.metadata (4.5 kB)\n",
      "Requirement already satisfied: nltk>=3.8 in c:\\users\\ariji\\anaconda3\\lib\\site-packages (from textblob) (3.8.1)\n",
      "Requirement already satisfied: click in c:\\users\\ariji\\anaconda3\\lib\\site-packages (from nltk>=3.8->textblob) (8.1.7)\n",
      "Requirement already satisfied: joblib in c:\\users\\ariji\\anaconda3\\lib\\site-packages (from nltk>=3.8->textblob) (1.2.0)\n",
      "Requirement already satisfied: regex>=2021.8.3 in c:\\users\\ariji\\anaconda3\\lib\\site-packages (from nltk>=3.8->textblob) (2023.10.3)\n",
      "Requirement already satisfied: tqdm in c:\\users\\ariji\\anaconda3\\lib\\site-packages (from nltk>=3.8->textblob) (4.66.5)\n",
      "Requirement already satisfied: colorama in c:\\users\\ariji\\anaconda3\\lib\\site-packages (from click->nltk>=3.8->textblob) (0.4.6)\n",
      "Downloading textblob-0.18.0.post0-py3-none-any.whl (626 kB)\n",
      "   ---------------------------------------- 0.0/626.3 kB ? eta -:--:--\n",
      "   - ------------------------------------- 30.7/626.3 kB 660.6 kB/s eta 0:00:01\n",
      "   ------------- -------------------------- 215.0/626.3 kB 2.6 MB/s eta 0:00:01\n",
      "   ------------------------ --------------- 378.9/626.3 kB 2.9 MB/s eta 0:00:01\n",
      "   --------------------------------- ------ 522.2/626.3 kB 3.0 MB/s eta 0:00:01\n",
      "   -------------------------------------- - 604.2/626.3 kB 2.7 MB/s eta 0:00:01\n",
      "   ---------------------------------------- 626.3/626.3 kB 2.8 MB/s eta 0:00:00\n",
      "Installing collected packages: textblob\n",
      "Successfully installed textblob-0.18.0.post0\n"
     ]
    }
   ],
   "source": [
    "! pip install textblob"
   ]
  },
  {
   "cell_type": "code",
   "execution_count": 3,
   "id": "b387440f-5f55-4e45-9b43-983068c5adf1",
   "metadata": {},
   "outputs": [],
   "source": [
    "import pandas as pd\n",
    "from textblob import TextBlob"
   ]
  },
  {
   "cell_type": "code",
   "execution_count": 5,
   "id": "29272c4c-99ea-42bf-b9a6-375643152d27",
   "metadata": {},
   "outputs": [
    {
     "data": {
      "text/html": [
       "<div>\n",
       "<style scoped>\n",
       "    .dataframe tbody tr th:only-of-type {\n",
       "        vertical-align: middle;\n",
       "    }\n",
       "\n",
       "    .dataframe tbody tr th {\n",
       "        vertical-align: top;\n",
       "    }\n",
       "\n",
       "    .dataframe thead th {\n",
       "        text-align: right;\n",
       "    }\n",
       "</style>\n",
       "<table border=\"1\" class=\"dataframe\">\n",
       "  <thead>\n",
       "    <tr style=\"text-align: right;\">\n",
       "      <th></th>\n",
       "      <th>timestamp</th>\n",
       "      <th>username</th>\n",
       "      <th>feedback</th>\n",
       "      <th>sentiment</th>\n",
       "    </tr>\n",
       "  </thead>\n",
       "  <tbody>\n",
       "    <tr>\n",
       "      <th>0</th>\n",
       "      <td>08-08-2023 10:00</td>\n",
       "      <td>@TechEnthusiast</td>\n",
       "      <td>The new tolecom product offers amazing connect...</td>\n",
       "      <td>positive</td>\n",
       "    </tr>\n",
       "    <tr>\n",
       "      <th>1</th>\n",
       "      <td>08-08-2023 10:15</td>\n",
       "      <td>@GadgetGuru</td>\n",
       "      <td>The new telecom product is a game-changer! It'...</td>\n",
       "      <td>positive</td>\n",
       "    </tr>\n",
       "    <tr>\n",
       "      <th>2</th>\n",
       "      <td>08-08-2023 10:30</td>\n",
       "      <td>@FrequentCaller</td>\n",
       "      <td>I've notaced a significant improvement in call...</td>\n",
       "      <td>positive</td>\n",
       "    </tr>\n",
       "    <tr>\n",
       "      <th>3</th>\n",
       "      <td>08-08-2023 10:45</td>\n",
       "      <td>@BusinessOwner</td>\n",
       "      <td>The new praduct has enhanced our business oper...</td>\n",
       "      <td>positive</td>\n",
       "    </tr>\n",
       "    <tr>\n",
       "      <th>4</th>\n",
       "      <td>08-08-2023 11:00</td>\n",
       "      <td>@DigitalNomad</td>\n",
       "      <td>As a digital nomad, I rely on consistent inter...</td>\n",
       "      <td>positive</td>\n",
       "    </tr>\n",
       "  </tbody>\n",
       "</table>\n",
       "</div>"
      ],
      "text/plain": [
       "          timestamp         username  \\\n",
       "0  08-08-2023 10:00  @TechEnthusiast   \n",
       "1  08-08-2023 10:15      @GadgetGuru   \n",
       "2  08-08-2023 10:30  @FrequentCaller   \n",
       "3  08-08-2023 10:45   @BusinessOwner   \n",
       "4  08-08-2023 11:00    @DigitalNomad   \n",
       "\n",
       "                                            feedback sentiment  \n",
       "0  The new tolecom product offers amazing connect...  positive  \n",
       "1  The new telecom product is a game-changer! It'...  positive  \n",
       "2  I've notaced a significant improvement in call...  positive  \n",
       "3  The new praduct has enhanced our business oper...  positive  \n",
       "4  As a digital nomad, I rely on consistent inter...  positive  "
      ]
     },
     "execution_count": 5,
     "metadata": {},
     "output_type": "execute_result"
    }
   ],
   "source": [
    "# Read the necessary dataset\n",
    "\n",
    "df = pd.read_csv(\"C:/Users/ariji/OneDrive/Desktop/Data/feedback.csv\")\n",
    "df.head()"
   ]
  },
  {
   "cell_type": "code",
   "execution_count": 6,
   "id": "49144ac7-9659-47df-953b-6647e6a98d15",
   "metadata": {},
   "outputs": [],
   "source": [
    "corrected_texts = []\n",
    "for feedback in df['feedback']:\n",
    "    blob = TextBlob(feedback)\n",
    "    corrected_text = str(blob.correct())\n",
    "    corrected_texts.append(corrected_text)"
   ]
  },
  {
   "cell_type": "code",
   "execution_count": 8,
   "id": "2407be7c-1d55-42ac-85a6-c09e5876150d",
   "metadata": {},
   "outputs": [
    {
     "name": "stdout",
     "output_type": "stream",
     "text": [
      "The new tolecom product offers amazing conductivity and lightning-fast speed. I'm thoroughly impressed!\n",
      "The new telecom product is a game-changes! It's made my online gazing experience so much smoother and law-free.\n",
      "I've noticed a significant improvement in call quality and signal strength with the new telecom product. Greet job!\n",
      "The new product has enhanced our business operations by providing reliable internet for all our devices. A must-have for any office.\n",
      "Is a digital noma, I rely on consistent internet wherever I go. The new telecom product has kept me connected no matter where I am!\n",
      "While the new product offers good speed, I experienced occasional droplets in my connection. Hoping for a fix soon.\n",
      "Streaming video and pleading content has never been smoother. The new telecom product has improved my online presence!\n",
      "The new telecom product is fantastic, but the pricking seems a bit steep. I'd love to see more unfordable option.\n",
      "I was resistant at first, but the set process was surprisingly easy. The new telecom product is user-friendly even for beginners like me.\n",
      "I heavily rely on fast internet for my work, and the new product has exceeded my expectations. It's a definite upgrade.\n"
     ]
    }
   ],
   "source": [
    "df['corrected_text'] = corrected_texts \n",
    "for corrected_text in df['corrected_text']:\n",
    "    print(corrected_text)"
   ]
  },
  {
   "cell_type": "code",
   "execution_count": null,
   "id": "ee3aecc1-0e28-4ce9-bc59-37d1a94acfcf",
   "metadata": {},
   "outputs": [],
   "source": []
  },
  {
   "cell_type": "code",
   "execution_count": null,
   "id": "045e7293-c0cf-497a-b57e-d08c55757195",
   "metadata": {},
   "outputs": [],
   "source": []
  },
  {
   "cell_type": "code",
   "execution_count": null,
   "id": "5f3c7b03-c426-4975-9cf1-966387e8d6b7",
   "metadata": {},
   "outputs": [],
   "source": []
  },
  {
   "cell_type": "code",
   "execution_count": null,
   "id": "eff68716-605f-4e67-8a57-b6bd679ce01d",
   "metadata": {},
   "outputs": [],
   "source": []
  },
  {
   "cell_type": "code",
   "execution_count": null,
   "id": "f3667bc9-b747-4e1f-9405-7663b322dab5",
   "metadata": {},
   "outputs": [],
   "source": []
  },
  {
   "cell_type": "code",
   "execution_count": null,
   "id": "8d868a40-35ad-431d-ab11-9b8b481db3be",
   "metadata": {},
   "outputs": [],
   "source": []
  }
 ],
 "metadata": {
  "kernelspec": {
   "display_name": "Python 3 (ipykernel)",
   "language": "python",
   "name": "python3"
  },
  "language_info": {
   "codemirror_mode": {
    "name": "ipython",
    "version": 3
   },
   "file_extension": ".py",
   "mimetype": "text/x-python",
   "name": "python",
   "nbconvert_exporter": "python",
   "pygments_lexer": "ipython3",
   "version": "3.11.7"
  }
 },
 "nbformat": 4,
 "nbformat_minor": 5
}
