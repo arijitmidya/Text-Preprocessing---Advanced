{
 "cells": [
  {
   "cell_type": "markdown",
   "id": "bba9d439-5935-4e4c-b35c-c82e7d2a52d5",
   "metadata": {},
   "source": [
    "# 1. Character Class\n",
    "\n",
    "A character class is a way of defining a group of characters that can match any one character from a given set. We use character classes in regex when \n",
    "we want to match a single character that can be any one of a specific set of characters instead of writing out all the possible characters that can be\n",
    "matched. To define a character class, we enclose a set of characters within square brackets [].\n",
    "\n",
    "Here are some character classes and what they match:\n",
    "\n",
    "[a-z]: Matches any lowercase letter\n",
    "\n",
    "[A-Z]: Matches any uppercase letter\n",
    "\n",
    "[0-9]: Matches any digit\n",
    "\n",
    "[a-zA-Z]: Matches any letter (both lowercase and uppercase)\n",
    "\n",
    "[a-zA-Z0-9]: Matches any letter or digit"
   ]
  },
  {
   "cell_type": "code",
   "execution_count": 1,
   "id": "76959a89-22b7-4bf4-afb8-a4e4a4df9883",
   "metadata": {},
   "outputs": [],
   "source": [
    "# import necessary libraries\n",
    "\n",
    "import re\n",
    "import pandas as pd"
   ]
  },
  {
   "cell_type": "code",
   "execution_count": 2,
   "id": "7475573a-8049-4b66-9a56-eeca5af8280a",
   "metadata": {},
   "outputs": [
    {
     "data": {
      "text/html": [
       "<div>\n",
       "<style scoped>\n",
       "    .dataframe tbody tr th:only-of-type {\n",
       "        vertical-align: middle;\n",
       "    }\n",
       "\n",
       "    .dataframe tbody tr th {\n",
       "        vertical-align: top;\n",
       "    }\n",
       "\n",
       "    .dataframe thead th {\n",
       "        text-align: right;\n",
       "    }\n",
       "</style>\n",
       "<table border=\"1\" class=\"dataframe\">\n",
       "  <thead>\n",
       "    <tr style=\"text-align: right;\">\n",
       "      <th></th>\n",
       "      <th>review_id</th>\n",
       "      <th>text</th>\n",
       "    </tr>\n",
       "  </thead>\n",
       "  <tbody>\n",
       "    <tr>\n",
       "      <th>0</th>\n",
       "      <td>txt145</td>\n",
       "      <td>The software had a steep learning curve at fir...</td>\n",
       "    </tr>\n",
       "    <tr>\n",
       "      <th>1</th>\n",
       "      <td>txt327</td>\n",
       "      <td>I'm really impressed with the user interface o...</td>\n",
       "    </tr>\n",
       "    <tr>\n",
       "      <th>2</th>\n",
       "      <td>txt209</td>\n",
       "      <td>The latest update to the software fixed severa...</td>\n",
       "    </tr>\n",
       "    <tr>\n",
       "      <th>3</th>\n",
       "      <td>txt825</td>\n",
       "      <td>I encountered a few glitches while using the s...</td>\n",
       "    </tr>\n",
       "    <tr>\n",
       "      <th>4</th>\n",
       "      <td>txt878</td>\n",
       "      <td>I was skeptical about trying the software init...</td>\n",
       "    </tr>\n",
       "  </tbody>\n",
       "</table>\n",
       "</div>"
      ],
      "text/plain": [
       "  review_id                                               text\n",
       "0    txt145  The software had a steep learning curve at fir...\n",
       "1    txt327  I'm really impressed with the user interface o...\n",
       "2    txt209  The latest update to the software fixed severa...\n",
       "3    txt825  I encountered a few glitches while using the s...\n",
       "4    txt878  I was skeptical about trying the software init..."
      ]
     },
     "execution_count": 2,
     "metadata": {},
     "output_type": "execute_result"
    }
   ],
   "source": [
    "# Read the necessary dataset\n",
    "\n",
    "df = pd.read_csv(\"C:/Users/ariji/OneDrive/Desktop/Data/reviews.csv\")\n",
    "df.head()"
   ]
  },
  {
   "cell_type": "code",
   "execution_count": 6,
   "id": "9f5f477e-5cce-4742-9b34-cd2f818dd571",
   "metadata": {},
   "outputs": [
    {
     "data": {
      "text/plain": [
       "['145']"
      ]
     },
     "execution_count": 6,
     "metadata": {},
     "output_type": "execute_result"
    }
   ],
   "source": [
    "matches = re.findall(r\"[0-9]+\",df.review_id.iloc[0])\n",
    "matches"
   ]
  },
  {
   "cell_type": "code",
   "execution_count": 7,
   "id": "8f0aa820-3b38-4c8b-ad2a-68b00ec53c26",
   "metadata": {},
   "outputs": [
    {
     "data": {
      "text/plain": [
       "['txt']"
      ]
     },
     "execution_count": 7,
     "metadata": {},
     "output_type": "execute_result"
    }
   ],
   "source": [
    "matches = re.findall(r\"[a-z]+\",df.review_id.iloc[0])\n",
    "matches"
   ]
  },
  {
   "cell_type": "code",
   "execution_count": 8,
   "id": "cb39bf3a-48bc-4419-b62b-4267c8f96190",
   "metadata": {},
   "outputs": [
    {
     "data": {
      "text/plain": [
       "[]"
      ]
     },
     "execution_count": 8,
     "metadata": {},
     "output_type": "execute_result"
    }
   ],
   "source": [
    "matches = re.findall(r\"[A-Z]+\",df.review_id.iloc[0])\n",
    "matches"
   ]
  },
  {
   "cell_type": "code",
   "execution_count": 9,
   "id": "73eed297-6461-4dac-929d-064ec4cdad5e",
   "metadata": {},
   "outputs": [
    {
     "data": {
      "text/plain": [
       "['txt']"
      ]
     },
     "execution_count": 9,
     "metadata": {},
     "output_type": "execute_result"
    }
   ],
   "source": [
    "matches = re.findall(r\"[a-zA-Z]+\",df.review_id.iloc[0])\n",
    "matches"
   ]
  },
  {
   "cell_type": "code",
   "execution_count": 10,
   "id": "3404dc8e-131c-414c-bbc8-3450e6735616",
   "metadata": {},
   "outputs": [
    {
     "data": {
      "text/plain": [
       "['txt145']"
      ]
     },
     "execution_count": 10,
     "metadata": {},
     "output_type": "execute_result"
    }
   ],
   "source": [
    "matches = re.findall(r\"[a-zA-Z0-9]+\",df.review_id.iloc[0])\n",
    "matches"
   ]
  },
  {
   "cell_type": "markdown",
   "id": "7ba0b4ea-c19d-420b-b8d9-f09c7203c5b4",
   "metadata": {},
   "source": [
    "# 2. Metacharacters\n",
    "\n",
    "Metacharacters are characters with special meanings, and we use them when we want to search, extract, or manipulate text data based on specific\n",
    "patterns or rules. For example, let’s say we have a text document containing a list of email addresses. We can use metacharacters to search for all the\n",
    "email addresses that follow a specific pattern. Suppose we want to extract all the email addresses that end with @hello.com from the document. We can\n",
    "use the .* metacharacter to represent any number of characters before @hello.com. Here’s an example regular expression pattern using\n",
    "metacharacters: .*@hello\\.com. In this pattern, the .* metacharacter sequence matches any number of characters (including zero characters) before \n",
    "the @ symbol. The . represents the literal dot character because the dot is also a metacharacter that matches any character. Finally, the \\.com pattern\n",
    "matches the .com characters in the email addresses.\n",
    "\n",
    "Some common metacharacters :\n",
    "\n",
    "Dot (.): This metacharacter matches exactly one character. For example, c.t would match any three-letter word beginning with c and ending with t.\n",
    "\n",
    "Asterisk, aka Kleene star (*): This metacharacter matches zero or more occurrences of the preceding element. For example, a* would match zero or more \n",
    "occurrences of the letter a.\n",
    "\n",
    "Plus symbol, aka Kleene plus (+): This metacharacter matches one or more occurrences of the preceding element. For example, a+ would match one or more\n",
    "occurrences of the letter a.\n",
    "\n",
    "Question mark (?): This metacharacter matches zero or one occurrence of the preceding element. For example, a? would match zero or one occurrence of\n",
    "the letter a.\n",
    "\n",
    "Caret (^): We use this metacharacter as the beginning of the line anchor. It asserts that the following pattern must start at the beginning of a line.\n",
    "For example, the ^hello pattern will only match if the input text starts with hello.\n",
    "\n",
    "Dollar sign ($): We use this metacharacter as the end-of-the-line anchor. It asserts that the preceding pattern must end at the end of a line. For \n",
    "example, the world$ pattern will only match if the input text ends with world.\n",
    "\n",
    "Pipe (|): This metacharacter allows us to specify multiple options or alternatives for matching. It allows us to match any one of a set of possible\n",
    "patterns, effectively creating a logical OR operation. The pipe symbol denotes it |. For example, th(e|is|at) will return the and this in this is the \n",
    "day.\n"
   ]
  },
  {
   "cell_type": "code",
   "execution_count": 16,
   "id": "0b36adaf-b6a6-4048-a7cb-8cd76fb61b13",
   "metadata": {},
   "outputs": [
    {
     "name": "stdout",
     "output_type": "stream",
     "text": [
      "0     The software had a steep learning curve at fir...\n",
      "1     I'm really impressed with the user interface o...\n",
      "2     The latest update to the software fixed severa...\n",
      "3     I encountered a few glitches while using the s...\n",
      "4     I was skeptical about trying the software init...\n",
      "5     The analytics features have provided us with v...\n",
      "6     I appreciate the regular updates that the soft...\n",
      "7     I attended a training session for the software...\n",
      "8     The software documentation could be more compr...\n",
      "9     I've recommended the software to colleagues du...\n",
      "10    The software integration with third-party plug...\n",
      "11    I'm looking forward to the upcoming release of...\n",
      "12    The user community is active and supportive, m...\n",
      "13    I've been using the software for a while now, ...\n",
      "14    The user interface could use some modernizatio...\n",
      "15    I went for a run and the software did a good j...\n",
      "Name: text, dtype: object\n",
      "The software had a steep learning curve at first, but after a while, I started to appreciate its powerful features. I'm really impressed with the user interface of the software. It's intuitive and easy to navigate. The latest update to the software fixed several bugs and improved its overall performance. I encountered a few glitches while using the software, but the customer support was quick to help me resolve them. I was skeptical about trying the software initially, but it turned out to be a game-changer for our productivity. The analytics features have provided us with valuable insights that have guided our decision-making. I appreciate the regular updates that the software receives, as they often bring new and useful features. I attended a training session for the software, and it greatly improved my understanding of its advanced functionalities. The software documentation could be more comprehensive, as some features are not well explained. I've recommended the software to colleagues due to its excellent project management capabilities. The software integration with third-party plugins has expanded its functionality and made it more versatile. I'm looking forward to the upcoming release of the software, which promises to address some of the current limitations. The user community is active and supportive, making it easier to troubleshoot issues and share insights. I've been using the software for a while now, and I'm consistently impressed by its stability and reliability. The user interface could use some modernization, as it feels somewhat outdated compared to competitors. I went for a run and the software did a good job of mapping the route.\n"
     ]
    }
   ],
   "source": [
    "print(df['text'])\n",
    "text = \" \".join(df['text'])\n",
    "print(text)"
   ]
  },
  {
   "cell_type": "code",
   "execution_count": 17,
   "id": "369c1bfe-b9a6-4688-9eaa-af24a10c6d28",
   "metadata": {},
   "outputs": [],
   "source": [
    "\n",
    "result_dot = re.findall(r'b.t', text)\n",
    "result_star = re.findall(r'competitors.*', text)\n",
    "result_plus = re.findall(r'soft.+', text)\n",
    "result_question = re.findall(r'm.?', text)\n",
    "result_pipe = re.findall(r'software|customer', text)"
   ]
  },
  {
   "cell_type": "code",
   "execution_count": 19,
   "id": "df69c2b1-ff53-492a-afc0-eab4d5f9390c",
   "metadata": {},
   "outputs": [
    {
     "name": "stdout",
     "output_type": "stream",
     "text": [
      "Dot metacharacter: 'b.t' ['but', 'but', 'but']\n",
      "\n",
      "Star metacharacter: 'competitors.*' ['competitors. I went for a run and the software did a good job of mapping the route.']\n",
      "\n",
      "Plus metacharacter: 'soft.+' [\"software had a steep learning curve at first, but after a while, I started to appreciate its powerful features. I'm really impressed with the user interface of the software. It's intuitive and easy to navigate. The latest update to the software fixed several bugs and improved its overall performance. I encountered a few glitches while using the software, but the customer support was quick to help me resolve them. I was skeptical about trying the software initially, but it turned out to be a game-changer for our productivity. The analytics features have provided us with valuable insights that have guided our decision-making. I appreciate the regular updates that the software receives, as they often bring new and useful features. I attended a training session for the software, and it greatly improved my understanding of its advanced functionalities. The software documentation could be more comprehensive, as some features are not well explained. I've recommended the software to colleagues due to its excellent project management capabilities. The software integration with third-party plugins has expanded its functionality and made it more versatile. I'm looking forward to the upcoming release of the software, which promises to address some of the current limitations. The user community is active and supportive, making it easier to troubleshoot issues and share insights. I've been using the software for a while now, and I'm consistently impressed by its stability and reliability. The user interface could use some modernization, as it feels somewhat outdated compared to competitors. I went for a run and the software did a good job of mapping the route.\"]\n",
      "\n",
      "Question mark metacharacter: 'm.?' ['m ', 'mp', 'mp', 'ma', 'me', 'me', 'm.', 'me', 'ma', 'mp', 'my', 'me', 'mo', 'mp', 'me', 'mm', 'ma', 'me', 'ma', 'mo', 'm ', 'mi', 'mi', 'me', 'mi', 'mm', 'ma', 'm ', 'mp', 'me', 'mo', 'me', 'mp', 'mp', 'ma']\n",
      "\n",
      "Pipe metacharacter: 'software|customer' ['software', 'software', 'software', 'software', 'customer', 'software', 'software', 'software', 'software', 'software', 'software', 'software', 'software', 'software']\n"
     ]
    }
   ],
   "source": [
    "print(\"Dot metacharacter: 'b.t'\", result_dot) \n",
    "print(\"\\nStar metacharacter: 'competitors.*'\", result_star) \n",
    "print(\"\\nPlus metacharacter: 'soft.+'\", result_plus) \n",
    "print(\"\\nQuestion mark metacharacter: 'm.?'\", result_question)  \n",
    "print(\"\\nPipe metacharacter: 'software|customer'\", result_pipe)"
   ]
  },
  {
   "cell_type": "markdown",
   "id": "44bac3de-6a25-4d7d-960b-7e96bd59fa25",
   "metadata": {},
   "source": [
    "# 3. Quantifiers\n",
    "\n",
    "Quantifiers are metacharacters that specify the number of occurrences of the preceding character, group, or character class. We use quantifiers to\n",
    "match a pattern that occurs a specific number or within a range of times, from zero to many.\n",
    "\n",
    "Common quantifiers include:\n",
    "\n",
    "The dot metacharacter (.)\n",
    "\n",
    "The asterisk metacharacter (*)\n",
    "\n",
    "The plus metacharacter (+)\n",
    "\n",
    "The question mark metacharacter (?)\n",
    "\n",
    "{n}, which matches precisely n occurrences of the preceding element, e.g., a{3} would match exactly three occurrences of the letter a\n",
    "\n",
    "{n,}, which matches at least n occurrences of the preceding element, e.g., a{3,} would match at least three occurrences of the letter a\n",
    "\n",
    "{,m}, which matches at most m occurrences of the preceding element, e.g., a{,3} would match at most three occurrences of the letter a\n",
    "\n",
    "{n,m}, which matches between n and m occurrences (inclusive) of the preceding element, e.g., a{2,5} would match between two and five occurrences of \n",
    "the letter a\n",
    "\n"
   ]
  },
  {
   "cell_type": "code",
   "execution_count": 20,
   "id": "9c3ffbe8-24db-4934-b582-613168a780f4",
   "metadata": {},
   "outputs": [
    {
     "name": "stdout",
     "output_type": "stream",
     "text": [
      "0     The software had a steep learning curve at fir...\n",
      "1     I'm really impressed with the user interface o...\n",
      "2     The latest update to the software fixed severa...\n",
      "3     I encountered a few glitches while using the s...\n",
      "4     I was skeptical about trying the software init...\n",
      "5     The analytics features have provided us with v...\n",
      "6     I appreciate the regular updates that the soft...\n",
      "7     I attended a training session for the software...\n",
      "8     The software documentation could be more compr...\n",
      "9     I've recommended the software to colleagues du...\n",
      "10    The software integration with third-party plug...\n",
      "11    I'm looking forward to the upcoming release of...\n",
      "12    The user community is active and supportive, m...\n",
      "13    I've been using the software for a while now, ...\n",
      "14    The user interface could use some modernizatio...\n",
      "15    I went for a run and the software did a good j...\n",
      "Name: text, dtype: object\n",
      "The software had a steep learning curve at first, but after a while, I started to appreciate its powerful features. I'm really impressed with the user interface of the software. It's intuitive and easy to navigate. The latest update to the software fixed several bugs and improved its overall performance. I encountered a few glitches while using the software, but the customer support was quick to help me resolve them. I was skeptical about trying the software initially, but it turned out to be a game-changer for our productivity. The analytics features have provided us with valuable insights that have guided our decision-making. I appreciate the regular updates that the software receives, as they often bring new and useful features. I attended a training session for the software, and it greatly improved my understanding of its advanced functionalities. The software documentation could be more comprehensive, as some features are not well explained. I've recommended the software to colleagues due to its excellent project management capabilities. The software integration with third-party plugins has expanded its functionality and made it more versatile. I'm looking forward to the upcoming release of the software, which promises to address some of the current limitations. The user community is active and supportive, making it easier to troubleshoot issues and share insights. I've been using the software for a while now, and I'm consistently impressed by its stability and reliability. The user interface could use some modernization, as it feels somewhat outdated compared to competitors. I went for a run and the software did a good job of mapping the route.\n"
     ]
    }
   ],
   "source": [
    "print(df['text'])\n",
    "text = \" \".join(df['text'])\n",
    "print(text)"
   ]
  },
  {
   "cell_type": "code",
   "execution_count": 28,
   "id": "918bc1af-028d-4b3b-83c8-a4899a3bab3a",
   "metadata": {},
   "outputs": [],
   "source": [
    "\"\"\"\n",
    "The t..t pattern searches for any occurrence of a t followed by two characters and then another t\n",
    "The t[a-z]*t pattern searches for any occurrence of a t followed by zero or more lowercase alphabetic characters and then another t\n",
    "The s[a-z]+ pattern searches for any occurrence of an lowercase s followed by one or more lowercase alphabetic characters.\n",
    "The regular expression regexp\\? searches for the literal string 'regexp?' in the text variable. The question mark (?) is a special character in regular\n",
    "expressions, and it’s escaped with a backslash (\\) to be treated as a literal character rather than a metacharacter\n",
    "The [a-zA-Z]{5} pattern specifies that it should match exactly five letters. The \\b before and after the pattern indicates a word boundary, ensuring \n",
    "that the regular expression matches whole words. The re.findall() function returns a list containing all such five-letter words.\n",
    "The [a-zA-Z]{3,} pattern indicates that it should match three or more letters. The \\b before and after the pattern ensures that the whole word matches.\n",
    "The [a-zA-Z]{,4} pattern indicates that it should match zero to four letters. The \\b before and after the pattern ensures that the whole word matches.\n",
    "The pattern s[a-zA-Z]{1,5} specifies that the word should start with “s” and be followed by one to five letters. The \\b before and after the pattern \n",
    "ensures that the whole word matches.\n",
    "The re.findall() function returns a list containing all such words meeting the defined criteria\n",
    "\n",
    "\"\"\"\n",
    "\n",
    "result_dot = re.findall(r't..t', text)\n",
    "result_star = re.findall(r't[a-z]*t', text)\n",
    "result_plus = re.findall(r's[a-z]+', text)\n",
    "result_question = re.findall(r'regexp\\?', text) \n",
    "result_n = re.findall(r'\\b[a-zA-Z]{5}\\b', text)\n",
    "result_n_min = re.findall(r'\\b[a-zA-Z]{3,}\\b', text)\n",
    "result_m_max = re.findall(r'\\b[a-zA-Z]{,4}\\b', text)\n",
    "result_n_m = re.findall(r'\\bs[a-zA-Z]{1,5}\\b', text)"
   ]
  },
  {
   "cell_type": "code",
   "execution_count": 29,
   "id": "3cd3ce29-fa45-46d7-8e8b-c2b45a065e6f",
   "metadata": {},
   "outputs": [
    {
     "name": "stdout",
     "output_type": "stream",
     "text": [
      "Dot quantifier: 't..t'\n",
      " ['tart', 'th t', 'tuit', 'test', 'te t', 't it', 'ts t', 'te t', 'that', 'th t', 'to t', 'to t', 'tent', 'tdat']\n",
      "\n",
      "Star quantifier: 't[a-z]*t'\n",
      " ['tart', 'tuit', 'test', 'tivit', 'that', 'that', 'tt', 'tionalit', 'tat', 'tegrat', 'tionalit', 'tat', 'troubleshoot', 'tent', 'tabilit', 'tdat', 'tit']\n",
      "\n",
      "Plus quantifier: 's[a-z]+'\n",
      " ['software', 'steep', 'st', 'started', 'ssed', 'ser', 'software', 'sy', 'st', 'software', 'several', 'sing', 'software', 'stomer', 'support', 'solve', 'skeptical', 'software', 'sights', 'sion', 'software', 'seful', 'session', 'software', 'standing', 'software', 'sive', 'some', 'software', 'software', 'satile', 'se', 'software', 'ses', 'ss', 'some', 'ser', 'supportive', 'sier', 'shoot', 'ssues', 'share', 'sights', 'sing', 'software', 'sistently', 'ssed', 'stability', 'ser', 'se', 'some', 'somewhat', 'software']\n",
      "\n",
      "Question mark quantifier: 'regexp?'\n",
      " []\n",
      "\n",
      "{n} quantifier: '[a-zA-Z]{5}'\n",
      " ['steep', 'curve', 'first', 'after', 'while', 'fixed', 'while', 'using', 'quick', 'about', 'often', 'bring', 'could', 'third', 'party', 'which', 'share', 'using', 'while', 'could', 'feels', 'route']\n",
      "\n",
      "{n,} quantifier: '[a-zA-Z]{3,}'\n",
      " ['The', 'software', 'had', 'steep', 'learning', 'curve', 'first', 'but', 'after', 'while', 'started', 'appreciate', 'its', 'powerful', 'features', 'really', 'impressed', 'with', 'the', 'user', 'interface', 'the', 'software', 'intuitive', 'and', 'easy', 'navigate', 'The', 'latest', 'update', 'the', 'software', 'fixed', 'several', 'bugs', 'and', 'improved', 'its', 'overall', 'performance', 'encountered', 'few', 'glitches', 'while', 'using', 'the', 'software', 'but', 'the', 'customer', 'support', 'was', 'quick', 'help', 'resolve', 'them', 'was', 'skeptical', 'about', 'trying', 'the', 'software', 'initially', 'but', 'turned', 'out', 'game', 'changer', 'for', 'our', 'productivity', 'The', 'analytics', 'features', 'have', 'provided', 'with', 'valuable', 'insights', 'that', 'have', 'guided', 'our', 'decision', 'making', 'appreciate', 'the', 'regular', 'updates', 'that', 'the', 'software', 'receives', 'they', 'often', 'bring', 'new', 'and', 'useful', 'features', 'attended', 'training', 'session', 'for', 'the', 'software', 'and', 'greatly', 'improved', 'understanding', 'its', 'advanced', 'functionalities', 'The', 'software', 'documentation', 'could', 'more', 'comprehensive', 'some', 'features', 'are', 'not', 'well', 'explained', 'recommended', 'the', 'software', 'colleagues', 'due', 'its', 'excellent', 'project', 'management', 'capabilities', 'The', 'software', 'integration', 'with', 'third', 'party', 'plugins', 'has', 'expanded', 'its', 'functionality', 'and', 'made', 'more', 'versatile', 'looking', 'forward', 'the', 'upcoming', 'release', 'the', 'software', 'which', 'promises', 'address', 'some', 'the', 'current', 'limitations', 'The', 'user', 'community', 'active', 'and', 'supportive', 'making', 'easier', 'troubleshoot', 'issues', 'and', 'share', 'insights', 'been', 'using', 'the', 'software', 'for', 'while', 'now', 'and', 'consistently', 'impressed', 'its', 'stability', 'and', 'reliability', 'The', 'user', 'interface', 'could', 'use', 'some', 'modernization', 'feels', 'somewhat', 'outdated', 'compared', 'competitors', 'went', 'for', 'run', 'and', 'the', 'software', 'did', 'good', 'job', 'mapping', 'the', 'route']\n",
      "\n",
      "{,m} quantifier: '[a-zA-Z]{,4}'\n",
      " ['The', '', '', '', 'had', '', 'a', '', '', '', '', '', '', '', 'at', '', '', '', 'but', '', '', '', 'a', '', '', '', 'I', '', '', '', 'to', '', '', '', 'its', '', '', '', '', '', 'I', '', 'm', '', '', '', '', '', 'with', '', 'the', '', 'user', '', '', '', 'of', '', 'the', '', '', '', 'It', '', 's', '', '', '', 'and', '', 'easy', '', 'to', '', '', '', 'The', '', '', '', '', '', 'to', '', 'the', '', '', '', '', '', '', '', 'bugs', '', 'and', '', '', '', 'its', '', '', '', '', '', 'I', '', '', '', 'a', '', 'few', '', '', '', '', '', '', '', 'the', '', '', '', 'but', '', 'the', '', '', '', '', '', 'was', '', '', '', 'to', '', 'help', '', 'me', '', '', '', 'them', '', 'I', '', 'was', '', '', '', '', '', '', '', 'the', '', '', '', '', '', 'but', '', 'it', '', '', '', 'out', '', 'to', '', 'be', '', 'a', '', 'game', '', '', '', 'for', '', 'our', '', '', '', 'The', '', '', '', '', '', 'have', '', '', '', 'us', '', 'with', '', '', '', '', '', 'that', '', 'have', '', '', '', 'our', '', '', '', '', '', 'I', '', '', '', 'the', '', '', '', '', '', 'that', '', 'the', '', '', '', '', '', 'as', '', 'they', '', '', '', '', '', 'new', '', 'and', '', '', '', '', '', 'I', '', '', '', 'a', '', '', '', '', '', 'for', '', 'the', '', '', '', 'and', '', 'it', '', '', '', '', '', 'my', '', '', '', 'of', '', 'its', '', '', '', '', '', 'The', '', '', '', '', '', '', '', 'be', '', 'more', '', '', '', 'as', '', 'some', '', '', '', 'are', '', 'not', '', 'well', '', '', '', 'I', '', 've', '', '', '', 'the', '', '', '', 'to', '', '', '', 'due', '', 'to', '', 'its', '', '', '', '', '', '', '', '', '', 'The', '', '', '', '', '', 'with', '', '', '', '', '', '', '', 'has', '', '', '', 'its', '', '', '', 'and', '', 'made', '', 'it', '', 'more', '', '', '', 'I', '', 'm', '', '', '', '', '', 'to', '', 'the', '', '', '', '', '', 'of', '', 'the', '', '', '', '', '', '', '', 'to', '', '', '', 'some', '', 'of', '', 'the', '', '', '', '', '', 'The', '', 'user', '', '', '', 'is', '', '', '', 'and', '', '', '', '', '', 'it', '', '', '', 'to', '', '', '', '', '', 'and', '', '', '', '', '', 'I', '', 've', '', 'been', '', '', '', 'the', '', '', '', 'for', '', 'a', '', '', '', 'now', '', 'and', '', 'I', '', 'm', '', '', '', '', '', 'by', '', 'its', '', '', '', 'and', '', '', '', 'The', '', 'user', '', '', '', '', '', 'use', '', 'some', '', '', '', 'as', '', 'it', '', '', '', '', '', '', '', '', '', 'to', '', '', '', 'I', '', 'went', '', 'for', '', 'a', '', 'run', '', 'and', '', 'the', '', '', '', 'did', '', 'a', '', 'good', '', 'job', '', 'of', '', '', '', 'the', '', '', '']\n",
      "\n",
      "{n,m} quantifier: 's[a-zA-Z]{1,5}'\n",
      " ['steep', 'some', 'some', 'share', 'some']\n"
     ]
    }
   ],
   "source": [
    "print(\"Dot quantifier: 't..t'\\n\", result_dot) \n",
    "print(\"\\nStar quantifier: 't[a-z]*t'\\n\", result_star) \n",
    "print(\"\\nPlus quantifier: 's[a-z]+'\\n\", result_plus) \n",
    "print(\"\\nQuestion mark quantifier: 'regexp?'\\n\", result_question)\n",
    "print(\"\\n{n} quantifier: '[a-zA-Z]{5}'\\n\", result_n)\n",
    "print(\"\\n{n,} quantifier: '[a-zA-Z]{3,}'\\n\", result_n_min)\n",
    "print(\"\\n{,m} quantifier: '[a-zA-Z]{,4}'\\n\", result_m_max)\n",
    "print(\"\\n{n,m} quantifier: 's[a-zA-Z]{1,5}'\\n\", result_n_m)"
   ]
  },
  {
   "cell_type": "markdown",
   "id": "aea9652f-b3c0-412f-a2a5-e1bfc9f73289",
   "metadata": {},
   "source": [
    "# 4. Shorthand character classes\n",
    "\n",
    "Shorthand character classes are predefined character classes representing a set of characters matching a particular pattern. They are a shorthand way\n",
    "of representing common character sets without listing every character explicitly. We use them to match specific common character sets quickly and \n",
    "easily. For example, we can use the \\d shorthand character to represent any digit character instead of writing [0-9].\n",
    "\n",
    "Other character classes include:\n",
    "\n",
    "\\D: Matches a non-digit\n",
    "\n",
    "\\W: Matches non-word (non-alphanumeric) characters\n",
    "\n",
    "\\w: Matches word (alphanumeric) characters\n",
    "\n",
    "\\S: Matches non-whitespace characters\n",
    "\n",
    "\\s: Matches whitespace characters"
   ]
  },
  {
   "cell_type": "code",
   "execution_count": 30,
   "id": "cfce2fae-388d-40c2-b7ce-ffce41e3f193",
   "metadata": {},
   "outputs": [
    {
     "name": "stdout",
     "output_type": "stream",
     "text": [
      "0     The software had a steep learning curve at fir...\n",
      "1     I'm really impressed with the user interface o...\n",
      "2     The latest update to the software fixed severa...\n",
      "3     I encountered a few glitches while using the s...\n",
      "4     I was skeptical about trying the software init...\n",
      "5     The analytics features have provided us with v...\n",
      "6     I appreciate the regular updates that the soft...\n",
      "7     I attended a training session for the software...\n",
      "8     The software documentation could be more compr...\n",
      "9     I've recommended the software to colleagues du...\n",
      "10    The software integration with third-party plug...\n",
      "11    I'm looking forward to the upcoming release of...\n",
      "12    The user community is active and supportive, m...\n",
      "13    I've been using the software for a while now, ...\n",
      "14    The user interface could use some modernizatio...\n",
      "15    I went for a run and the software did a good j...\n",
      "Name: text, dtype: object\n",
      "The software had a steep learning curve at first, but after a while, I started to appreciate its powerful features. I'm really impressed with the user interface of the software. It's intuitive and easy to navigate. The latest update to the software fixed several bugs and improved its overall performance. I encountered a few glitches while using the software, but the customer support was quick to help me resolve them. I was skeptical about trying the software initially, but it turned out to be a game-changer for our productivity. The analytics features have provided us with valuable insights that have guided our decision-making. I appreciate the regular updates that the software receives, as they often bring new and useful features. I attended a training session for the software, and it greatly improved my understanding of its advanced functionalities. The software documentation could be more comprehensive, as some features are not well explained. I've recommended the software to colleagues due to its excellent project management capabilities. The software integration with third-party plugins has expanded its functionality and made it more versatile. I'm looking forward to the upcoming release of the software, which promises to address some of the current limitations. The user community is active and supportive, making it easier to troubleshoot issues and share insights. I've been using the software for a while now, and I'm consistently impressed by its stability and reliability. The user interface could use some modernization, as it feels somewhat outdated compared to competitors. I went for a run and the software did a good job of mapping the route.\n"
     ]
    }
   ],
   "source": [
    "print(df['text'])\n",
    "text = \" \".join(df['text'])\n",
    "print(text)"
   ]
  },
  {
   "cell_type": "code",
   "execution_count": 31,
   "id": "9a5cdec3-312b-423e-9713-8b313003cbeb",
   "metadata": {},
   "outputs": [],
   "source": [
    "\"\"\"\n",
    "re.findall(\"\\D\", text): This finds all non-digit characters in the text string (i.e., any character that’s not a digit). The result is stored in the \n",
    "non_digits list.\n",
    "re.findall(\"\\d\", text): This finds all digit characters in the text string. The result is stored in the digits list.\n",
    "re.findall(\"\\W\", text): This finds all non-word characters in the text string. A non-word character is anything that’s not a word character, meaning it \n",
    "includes symbols and punctuation but excludes digits and underscores. The result is stored in the non_words list.\n",
    "re.findall(\"\\w\", text): This finds all word characters in the text string. A word character includes letters, digits, and underscores. The result is \n",
    "stored in the words list.\n",
    "re.findall(\"\\S\", text): This finds all non-space characters in the text string. A non-space character is anything other than a whitespace character. \n",
    "The result is stored in the non_spaces list.\n",
    "re.findall(\"\\s\", text): This finds all space characters in the text string. A space character includes spaces, tabs, and line breaks. The result is\n",
    "stored in the spaces list.\n",
    "\n",
    "\"\"\"\n",
    "\n",
    "non_digits_count = len(re.findall(\"\\D\", text))\n",
    "digits_count = len(re.findall(\"\\d\", text))\n",
    "non_words_count = len(re.findall(\"\\W\", text))\n",
    "words_count = len(re.findall(\"\\w\", text))\n",
    "spaces_count = len(re.findall(\"\\s\", text)) "
   ]
  },
  {
   "cell_type": "code",
   "execution_count": 32,
   "id": "5093359e-7994-49d4-98f8-ef652627c914",
   "metadata": {},
   "outputs": [
    {
     "name": "stdout",
     "output_type": "stream",
     "text": [
      "Non-digits count: 1678\n",
      "Digits count: 0\n",
      "Non-words count: 300\n",
      "Words count: 1378\n",
      "Spaces count: 263\n"
     ]
    }
   ],
   "source": [
    "print(\"Non-digits count:\", non_digits_count)\n",
    "print(\"Digits count:\", digits_count)\n",
    "print(\"Non-words count:\", non_words_count)\n",
    "print(\"Words count:\", words_count)\n",
    "print(\"Spaces count:\", spaces_count) "
   ]
  },
  {
   "cell_type": "markdown",
   "id": "0d0b6ccd-b0d1-4b60-9142-8dd1450545c0",
   "metadata": {},
   "source": [
    "# 5. Escape Sequence\n",
    "\n",
    "Escape sequences are a combination of characters in a string representing a unique character or characters with a special meaning. We refer to them as \n",
    "escape sequences because they escape the usual character interpretation and treat them as a unique code representing a specific character or action. \n",
    "For example, if we want to match a period (.) in a text, we use an escape sequence (\\.) because the period is a metacharacter (and a quantifier) that\n",
    "matches any character.\n",
    "\n",
    "Examples of other escape characters include:\n",
    "\n",
    "\\n: Matches a newline\n",
    "\n",
    "\\t: Matches a tab\n",
    "\n",
    "\\r: Matches a carriage return\n",
    "\n",
    "\\f: Matches a form feed\n",
    "\n",
    "\\b: Matches a backspace"
   ]
  },
  {
   "cell_type": "code",
   "execution_count": 33,
   "id": "665550ee-bbd2-49c2-b6bf-3867342e7ff7",
   "metadata": {},
   "outputs": [
    {
     "name": "stdout",
     "output_type": "stream",
     "text": [
      "0     The software had a steep learning curve at fir...\n",
      "1     I'm really impressed with the user interface o...\n",
      "2     The latest update to the software fixed severa...\n",
      "3     I encountered a few glitches while using the s...\n",
      "4     I was skeptical about trying the software init...\n",
      "5     The analytics features have provided us with v...\n",
      "6     I appreciate the regular updates that the soft...\n",
      "7     I attended a training session for the software...\n",
      "8     The software documentation could be more compr...\n",
      "9     I've recommended the software to colleagues du...\n",
      "10    The software integration with third-party plug...\n",
      "11    I'm looking forward to the upcoming release of...\n",
      "12    The user community is active and supportive, m...\n",
      "13    I've been using the software for a while now, ...\n",
      "14    The user interface could use some modernizatio...\n",
      "15    I went for a run and the software did a good j...\n",
      "Name: text, dtype: object\n",
      "The software had a steep learning curve at first, but after a while, I started to appreciate its powerful features. I'm really impressed with the user interface of the software. It's intuitive and easy to navigate. The latest update to the software fixed several bugs and improved its overall performance. I encountered a few glitches while using the software, but the customer support was quick to help me resolve them. I was skeptical about trying the software initially, but it turned out to be a game-changer for our productivity. The analytics features have provided us with valuable insights that have guided our decision-making. I appreciate the regular updates that the software receives, as they often bring new and useful features. I attended a training session for the software, and it greatly improved my understanding of its advanced functionalities. The software documentation could be more comprehensive, as some features are not well explained. I've recommended the software to colleagues due to its excellent project management capabilities. The software integration with third-party plugins has expanded its functionality and made it more versatile. I'm looking forward to the upcoming release of the software, which promises to address some of the current limitations. The user community is active and supportive, making it easier to troubleshoot issues and share insights. I've been using the software for a while now, and I'm consistently impressed by its stability and reliability. The user interface could use some modernization, as it feels somewhat outdated compared to competitors. I went for a run and the software did a good job of mapping the route.\n"
     ]
    }
   ],
   "source": [
    "print(df['text'])\n",
    "text = \" \".join(df['text'])\n",
    "print(text)"
   ]
  },
  {
   "cell_type": "code",
   "execution_count": 34,
   "id": "f523ec9f-24cd-4e69-9980-4aa243ecc228",
   "metadata": {},
   "outputs": [
    {
     "data": {
      "text/plain": [
       "[]"
      ]
     },
     "execution_count": 34,
     "metadata": {},
     "output_type": "execute_result"
    }
   ],
   "source": [
    "re.findall(\"\\n\", text)"
   ]
  },
  {
   "cell_type": "code",
   "execution_count": null,
   "id": "bb2d6f10-be04-4285-9154-9463cda1b89a",
   "metadata": {},
   "outputs": [],
   "source": []
  },
  {
   "cell_type": "code",
   "execution_count": null,
   "id": "4f933964-8462-47e0-9d67-b3769b95d763",
   "metadata": {},
   "outputs": [],
   "source": []
  },
  {
   "cell_type": "code",
   "execution_count": null,
   "id": "596788ab-6ad3-4517-95b2-4ee194469a2d",
   "metadata": {},
   "outputs": [],
   "source": []
  },
  {
   "cell_type": "code",
   "execution_count": null,
   "id": "5514eb0b-c3f0-4d9f-9e57-477e5305f7ca",
   "metadata": {},
   "outputs": [],
   "source": []
  },
  {
   "cell_type": "code",
   "execution_count": null,
   "id": "bf2e02a3-652a-4b7c-aa77-692b9a4109a8",
   "metadata": {},
   "outputs": [],
   "source": []
  },
  {
   "cell_type": "code",
   "execution_count": null,
   "id": "125225cb-bc35-441d-857c-2ae70ed0cc2c",
   "metadata": {},
   "outputs": [],
   "source": []
  },
  {
   "cell_type": "code",
   "execution_count": null,
   "id": "9211e0ca-e5f3-4084-b458-45df1103166d",
   "metadata": {},
   "outputs": [],
   "source": []
  },
  {
   "cell_type": "code",
   "execution_count": null,
   "id": "099a54a8-cfa1-445a-b449-2b2dc392c58c",
   "metadata": {},
   "outputs": [],
   "source": []
  }
 ],
 "metadata": {
  "kernelspec": {
   "display_name": "Python 3 (ipykernel)",
   "language": "python",
   "name": "python3"
  },
  "language_info": {
   "codemirror_mode": {
    "name": "ipython",
    "version": 3
   },
   "file_extension": ".py",
   "mimetype": "text/x-python",
   "name": "python",
   "nbconvert_exporter": "python",
   "pygments_lexer": "ipython3",
   "version": "3.11.7"
  }
 },
 "nbformat": 4,
 "nbformat_minor": 5
}
