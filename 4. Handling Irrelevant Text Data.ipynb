{
 "cells": [
  {
   "cell_type": "markdown",
   "id": "61377a6b-c50d-48bf-a164-6dea7e87f3c7",
   "metadata": {},
   "source": [
    "# Types of irrelevant text data\n",
    "\n",
    "Irrelevant text data refers to words, phrases, or sentences in the larger text context that are unimportant during analysis. This makes dealing with \n",
    "irrelevant text data an essential step in text preprocessing. It can improve the accuracy and efficiency of NLP tasks, such as sentiment analysis, \n",
    "topic modeling, and document classification. In the following sections, we’ll look at some examples of irrelevant text data and how to remove them \n",
    "using various NLP libraries.\n"
   ]
  },
  {
   "cell_type": "markdown",
   "id": "ea70ad18-49e3-4a8c-b574-c4ed24827a91",
   "metadata": {},
   "source": [
    "## 1. Stopwords"
   ]
  },
  {
   "cell_type": "code",
   "execution_count": 1,
   "id": "a09c0c8f-49ab-4008-9df1-542ac3215780",
   "metadata": {},
   "outputs": [],
   "source": [
    "import nltk\n",
    "import pandas as pd\n",
    "from nltk.corpus import stopwords\n",
    "nltk.download('stopwords', quiet=True)\n",
    "stop_words = set(stopwords.words(\"english\"))"
   ]
  },
  {
   "cell_type": "code",
   "execution_count": 2,
   "id": "97b9d542-9fd2-4a0c-b5bb-15edff031c71",
   "metadata": {},
   "outputs": [
    {
     "data": {
      "text/html": [
       "<div>\n",
       "<style scoped>\n",
       "    .dataframe tbody tr th:only-of-type {\n",
       "        vertical-align: middle;\n",
       "    }\n",
       "\n",
       "    .dataframe tbody tr th {\n",
       "        vertical-align: top;\n",
       "    }\n",
       "\n",
       "    .dataframe thead th {\n",
       "        text-align: right;\n",
       "    }\n",
       "</style>\n",
       "<table border=\"1\" class=\"dataframe\">\n",
       "  <thead>\n",
       "    <tr style=\"text-align: right;\">\n",
       "      <th></th>\n",
       "      <th>review_id</th>\n",
       "      <th>text</th>\n",
       "    </tr>\n",
       "  </thead>\n",
       "  <tbody>\n",
       "    <tr>\n",
       "      <th>0</th>\n",
       "      <td>txt145</td>\n",
       "      <td>The software had a steep learning curve at fir...</td>\n",
       "    </tr>\n",
       "    <tr>\n",
       "      <th>1</th>\n",
       "      <td>txt327</td>\n",
       "      <td>I'm really impressed with the user interface o...</td>\n",
       "    </tr>\n",
       "    <tr>\n",
       "      <th>2</th>\n",
       "      <td>txt209</td>\n",
       "      <td>The latest update to the software fixed severa...</td>\n",
       "    </tr>\n",
       "    <tr>\n",
       "      <th>3</th>\n",
       "      <td>txt825</td>\n",
       "      <td>I encountered a few glitches while using the s...</td>\n",
       "    </tr>\n",
       "    <tr>\n",
       "      <th>4</th>\n",
       "      <td>txt878</td>\n",
       "      <td>I was skeptical about trying the software init...</td>\n",
       "    </tr>\n",
       "  </tbody>\n",
       "</table>\n",
       "</div>"
      ],
      "text/plain": [
       "  review_id                                               text\n",
       "0    txt145  The software had a steep learning curve at fir...\n",
       "1    txt327  I'm really impressed with the user interface o...\n",
       "2    txt209  The latest update to the software fixed severa...\n",
       "3    txt825  I encountered a few glitches while using the s...\n",
       "4    txt878  I was skeptical about trying the software init..."
      ]
     },
     "execution_count": 2,
     "metadata": {},
     "output_type": "execute_result"
    }
   ],
   "source": [
    "# Read the necessary dataset\n",
    "\n",
    "df = pd.read_csv(\"C:/Users/ariji/OneDrive/Desktop/Data/reviews.csv\")\n",
    "df.head()"
   ]
  },
  {
   "cell_type": "code",
   "execution_count": 4,
   "id": "8774e99e-3c78-424d-b4c6-54af5ccfcebf",
   "metadata": {},
   "outputs": [],
   "source": [
    "\n",
    "filtered_reviews = []\n",
    "for review in df['text']:\n",
    "    words = review.split()\n",
    "    filtered_words = [word for word in words if word.lower() not in stop_words]\n",
    "    filtered_text = \" \".join(filtered_words)\n",
    "    filtered_reviews.append(filtered_text)"
   ]
  },
  {
   "cell_type": "code",
   "execution_count": 5,
   "id": "74a3ad3d-7a19-468b-b4ac-fa451df1894f",
   "metadata": {},
   "outputs": [
    {
     "name": "stdout",
     "output_type": "stream",
     "text": [
      "0     software steep learning curve first, while, st...\n",
      "1     I'm really impressed user interface software. ...\n",
      "2     latest update software fixed several bugs impr...\n",
      "3     encountered glitches using software, customer ...\n",
      "4     skeptical trying software initially, turned ga...\n",
      "5     analytics features provided us valuable insigh...\n",
      "6     appreciate regular updates software receives, ...\n",
      "7     attended training session software, greatly im...\n",
      "8     software documentation could comprehensive, fe...\n",
      "9     I've recommended software colleagues due excel...\n",
      "10    software integration third-party plugins expan...\n",
      "11    I'm looking forward upcoming release software,...\n",
      "12    user community active supportive, making easie...\n",
      "13    I've using software now, I'm consistently impr...\n",
      "14    user interface could use modernization, feels ...\n",
      "15            went run software good job mapping route.\n",
      "Name: filtered_review_text, dtype: object\n"
     ]
    }
   ],
   "source": [
    "df['filtered_review_text'] = filtered_reviews \n",
    "print(df['filtered_review_text'])"
   ]
  },
  {
   "cell_type": "markdown",
   "id": "70f64b1a-2e13-4a70-a628-a6186e007dac",
   "metadata": {},
   "source": [
    "## 2. Special characters, numbers, and punctuation"
   ]
  },
  {
   "cell_type": "code",
   "execution_count": 10,
   "id": "a5164b33-3ab8-48ea-bd15-f083e9448fa7",
   "metadata": {},
   "outputs": [
    {
     "data": {
      "text/html": [
       "<div>\n",
       "<style scoped>\n",
       "    .dataframe tbody tr th:only-of-type {\n",
       "        vertical-align: middle;\n",
       "    }\n",
       "\n",
       "    .dataframe tbody tr th {\n",
       "        vertical-align: top;\n",
       "    }\n",
       "\n",
       "    .dataframe thead th {\n",
       "        text-align: right;\n",
       "    }\n",
       "</style>\n",
       "<table border=\"1\" class=\"dataframe\">\n",
       "  <thead>\n",
       "    <tr style=\"text-align: right;\">\n",
       "      <th></th>\n",
       "      <th>review_id</th>\n",
       "      <th>text</th>\n",
       "    </tr>\n",
       "  </thead>\n",
       "  <tbody>\n",
       "    <tr>\n",
       "      <th>0</th>\n",
       "      <td>txt145</td>\n",
       "      <td>The software had a steep learning curve at fir...</td>\n",
       "    </tr>\n",
       "    <tr>\n",
       "      <th>1</th>\n",
       "      <td>txt327</td>\n",
       "      <td>I'm really impressed with the user interface o...</td>\n",
       "    </tr>\n",
       "    <tr>\n",
       "      <th>2</th>\n",
       "      <td>txt209</td>\n",
       "      <td>The latest update to the software fixed severa...</td>\n",
       "    </tr>\n",
       "    <tr>\n",
       "      <th>3</th>\n",
       "      <td>txt825</td>\n",
       "      <td>I encountered a few glitches while using the s...</td>\n",
       "    </tr>\n",
       "    <tr>\n",
       "      <th>4</th>\n",
       "      <td>txt878</td>\n",
       "      <td>I was skeptical about trying the software init...</td>\n",
       "    </tr>\n",
       "  </tbody>\n",
       "</table>\n",
       "</div>"
      ],
      "text/plain": [
       "  review_id                                               text\n",
       "0    txt145  The software had a steep learning curve at fir...\n",
       "1    txt327  I'm really impressed with the user interface o...\n",
       "2    txt209  The latest update to the software fixed severa...\n",
       "3    txt825  I encountered a few glitches while using the s...\n",
       "4    txt878  I was skeptical about trying the software init..."
      ]
     },
     "execution_count": 10,
     "metadata": {},
     "output_type": "execute_result"
    }
   ],
   "source": [
    "# Read the necessary dataset\n",
    "\n",
    "df = pd.read_csv(\"C:/Users/ariji/OneDrive/Desktop/Data/reviews.csv\")\n",
    "df.head()"
   ]
  },
  {
   "cell_type": "code",
   "execution_count": 13,
   "id": "9f1431bc-b6e4-4b28-8e5b-8f4ab188ae33",
   "metadata": {},
   "outputs": [],
   "source": [
    "import re\n",
    "\n",
    "def clean_text(text):\n",
    "    cleaned_text = re.sub(r'[^a-zA-Z\\s]', '', text)\n",
    "    return cleaned_text"
   ]
  },
  {
   "cell_type": "code",
   "execution_count": 14,
   "id": "0a8bc4d8-30bb-491f-8c6d-e7b5e7092921",
   "metadata": {},
   "outputs": [
    {
     "name": "stdout",
     "output_type": "stream",
     "text": [
      "0     The software had a steep learning curve at fir...\n",
      "1     Im really impressed with the user interface of...\n",
      "2     The latest update to the software fixed severa...\n",
      "3     I encountered a few glitches while using the s...\n",
      "4     I was skeptical about trying the software init...\n",
      "5     The analytics features have provided us with v...\n",
      "6     I appreciate the regular updates that the soft...\n",
      "7     I attended a training session for the software...\n",
      "8     The software documentation could be more compr...\n",
      "9     Ive recommended the software to colleagues due...\n",
      "10    The software integration with thirdparty plugi...\n",
      "11    Im looking forward to the upcoming release of ...\n",
      "12    The user community is active and supportive ma...\n",
      "13    Ive been using the software for a while now an...\n",
      "14    The user interface could use some modernizatio...\n",
      "15    I went for a run and the software did a good j...\n",
      "Name: cleaned_text, dtype: object\n"
     ]
    }
   ],
   "source": [
    "df['cleaned_text'] = df['text'].apply(clean_text) \n",
    "print(df['cleaned_text'])"
   ]
  },
  {
   "cell_type": "markdown",
   "id": "a5f55052-8eaa-4b1b-ad3b-8d96a5adcdeb",
   "metadata": {},
   "source": [
    "# HTML Tags"
   ]
  },
  {
   "cell_type": "code",
   "execution_count": 15,
   "id": "00e1aada-f30c-4e24-b08b-4391dbf3c103",
   "metadata": {},
   "outputs": [],
   "source": [
    "import re\n",
    "from bs4 import BeautifulSoup\n",
    "import pandas as pd"
   ]
  },
  {
   "cell_type": "code",
   "execution_count": 16,
   "id": "7948d15c-293f-45dd-8fbc-8c36e19238c9",
   "metadata": {},
   "outputs": [
    {
     "data": {
      "text/html": [
       "<div>\n",
       "<style scoped>\n",
       "    .dataframe tbody tr th:only-of-type {\n",
       "        vertical-align: middle;\n",
       "    }\n",
       "\n",
       "    .dataframe tbody tr th {\n",
       "        vertical-align: top;\n",
       "    }\n",
       "\n",
       "    .dataframe thead th {\n",
       "        text-align: right;\n",
       "    }\n",
       "</style>\n",
       "<table border=\"1\" class=\"dataframe\">\n",
       "  <thead>\n",
       "    <tr style=\"text-align: right;\">\n",
       "      <th></th>\n",
       "      <th>review_id</th>\n",
       "      <th>text</th>\n",
       "    </tr>\n",
       "  </thead>\n",
       "  <tbody>\n",
       "    <tr>\n",
       "      <th>0</th>\n",
       "      <td>txt145</td>\n",
       "      <td>The software had a steep learning curve at fir...</td>\n",
       "    </tr>\n",
       "    <tr>\n",
       "      <th>1</th>\n",
       "      <td>txt327</td>\n",
       "      <td>I'm really impressed with the user interface o...</td>\n",
       "    </tr>\n",
       "    <tr>\n",
       "      <th>2</th>\n",
       "      <td>txt209</td>\n",
       "      <td>The latest update to the software fixed severa...</td>\n",
       "    </tr>\n",
       "    <tr>\n",
       "      <th>3</th>\n",
       "      <td>txt825</td>\n",
       "      <td>I encountered a few glitches while using the s...</td>\n",
       "    </tr>\n",
       "    <tr>\n",
       "      <th>4</th>\n",
       "      <td>txt878</td>\n",
       "      <td>I was skeptical about trying the software init...</td>\n",
       "    </tr>\n",
       "  </tbody>\n",
       "</table>\n",
       "</div>"
      ],
      "text/plain": [
       "  review_id                                               text\n",
       "0    txt145  The software had a steep learning curve at fir...\n",
       "1    txt327  I'm really impressed with the user interface o...\n",
       "2    txt209  The latest update to the software fixed severa...\n",
       "3    txt825  I encountered a few glitches while using the s...\n",
       "4    txt878  I was skeptical about trying the software init..."
      ]
     },
     "execution_count": 16,
     "metadata": {},
     "output_type": "execute_result"
    }
   ],
   "source": [
    "# Read the necessary dataset\n",
    "\n",
    "df = pd.read_csv(\"C:/Users/ariji/OneDrive/Desktop/Data/reviews.csv\")\n",
    "df.head()"
   ]
  },
  {
   "cell_type": "code",
   "execution_count": 17,
   "id": "16707187-c506-4666-82a6-3b9945e72741",
   "metadata": {},
   "outputs": [],
   "source": [
    "\n",
    "def remove_html_tags(text):\n",
    "    soup = BeautifulSoup(text, \"html.parser\")\n",
    "    cleaned_text = soup.get_text()\n",
    "    return cleaned_text"
   ]
  },
  {
   "cell_type": "code",
   "execution_count": 18,
   "id": "49e35523-4924-486a-b526-77b52bdb7bd7",
   "metadata": {},
   "outputs": [
    {
     "name": "stdout",
     "output_type": "stream",
     "text": [
      "0     The software had a steep learning curve at fir...\n",
      "1     I'm really impressed with the user interface o...\n",
      "2     The latest update to the software fixed severa...\n",
      "3     I encountered a few glitches while using the s...\n",
      "4     I was skeptical about trying the software init...\n",
      "5     The analytics features have provided us with v...\n",
      "6     I appreciate the regular updates that the soft...\n",
      "7     I attended a training session for the software...\n",
      "8     The software documentation could be more compr...\n",
      "9     I've recommended the software to colleagues du...\n",
      "10    The software integration with third-party plug...\n",
      "11    I'm looking forward to the upcoming release of...\n",
      "12    The user community is active and supportive, m...\n",
      "13    I've been using the software for a while now, ...\n",
      "14    The user interface could use some modernizatio...\n",
      "15    I went for a run and the software did a good j...\n",
      "Name: cleaned_text, dtype: object\n"
     ]
    }
   ],
   "source": [
    "df['cleaned_text'] = df['text'].apply(remove_html_tags)\n",
    "print(df['cleaned_text'])"
   ]
  },
  {
   "cell_type": "markdown",
   "id": "6faa4220-c2c8-46aa-bde2-23bfa8851553",
   "metadata": {},
   "source": [
    "# Irrelevant metadata\n",
    "\n",
    "Metadata is, to put it simply, data about data. For example, if we send an MS Word document to someone, the metadata associated with that document \n",
    "would be the date and time the document was created, who the file owner is, whether the file has special permissions, and so on. However, not all \n",
    "metadata is useful or relevant in all cases and can introduce noise into the text analysis, negatively affecting its accuracy. As a result, \n",
    "we can use regular expressions to match and remove specific metadata patterns.\n"
   ]
  },
  {
   "cell_type": "code",
   "execution_count": 19,
   "id": "39912a57-a4d4-4218-912d-0c5450a25365",
   "metadata": {},
   "outputs": [
    {
     "data": {
      "text/html": [
       "<div>\n",
       "<style scoped>\n",
       "    .dataframe tbody tr th:only-of-type {\n",
       "        vertical-align: middle;\n",
       "    }\n",
       "\n",
       "    .dataframe tbody tr th {\n",
       "        vertical-align: top;\n",
       "    }\n",
       "\n",
       "    .dataframe thead th {\n",
       "        text-align: right;\n",
       "    }\n",
       "</style>\n",
       "<table border=\"1\" class=\"dataframe\">\n",
       "  <thead>\n",
       "    <tr style=\"text-align: right;\">\n",
       "      <th></th>\n",
       "      <th>review_id</th>\n",
       "      <th>text</th>\n",
       "    </tr>\n",
       "  </thead>\n",
       "  <tbody>\n",
       "    <tr>\n",
       "      <th>0</th>\n",
       "      <td>txt145</td>\n",
       "      <td>The software had a steep learning curve at fir...</td>\n",
       "    </tr>\n",
       "    <tr>\n",
       "      <th>1</th>\n",
       "      <td>txt327</td>\n",
       "      <td>I'm really impressed with the user interface o...</td>\n",
       "    </tr>\n",
       "    <tr>\n",
       "      <th>2</th>\n",
       "      <td>txt209</td>\n",
       "      <td>The latest update to the software fixed severa...</td>\n",
       "    </tr>\n",
       "    <tr>\n",
       "      <th>3</th>\n",
       "      <td>txt825</td>\n",
       "      <td>I encountered a few glitches while using the s...</td>\n",
       "    </tr>\n",
       "    <tr>\n",
       "      <th>4</th>\n",
       "      <td>txt878</td>\n",
       "      <td>I was skeptical about trying the software init...</td>\n",
       "    </tr>\n",
       "  </tbody>\n",
       "</table>\n",
       "</div>"
      ],
      "text/plain": [
       "  review_id                                               text\n",
       "0    txt145  The software had a steep learning curve at fir...\n",
       "1    txt327  I'm really impressed with the user interface o...\n",
       "2    txt209  The latest update to the software fixed severa...\n",
       "3    txt825  I encountered a few glitches while using the s...\n",
       "4    txt878  I was skeptical about trying the software init..."
      ]
     },
     "execution_count": 19,
     "metadata": {},
     "output_type": "execute_result"
    }
   ],
   "source": [
    "# Read the necessary dataset\n",
    "\n",
    "df = pd.read_csv(\"C:/Users/ariji/OneDrive/Desktop/Data/reviews.csv\")\n",
    "df.head()"
   ]
  },
  {
   "cell_type": "code",
   "execution_count": 20,
   "id": "1f1f9b3d-76ea-4fe8-ba38-974ac0d8dafe",
   "metadata": {},
   "outputs": [],
   "source": [
    "\n",
    "def remove_metadata(text):\n",
    "    pattern = r\"Date: [A-Za-z]{3,9} \\d{1,2}, \\d{4}\" \n",
    "    match = re.search(pattern, text)\n",
    "    if match:\n",
    "        df['metadata'] = match.group()\n",
    "        cleaned_text = re.sub(pattern, \"\", text)\n",
    "    else:\n",
    "        df['metadata'] = \"\"\n",
    "        cleaned_text = text   \n",
    "    return cleaned_text"
   ]
  },
  {
   "cell_type": "code",
   "execution_count": 21,
   "id": "69424afe-4a00-45d5-b19a-5470b25392f8",
   "metadata": {},
   "outputs": [
    {
     "name": "stdout",
     "output_type": "stream",
     "text": [
      "0     The software had a steep learning curve at fir...\n",
      "1     I'm really impressed with the user interface o...\n",
      "2     The latest update to the software fixed severa...\n",
      "3     I encountered a few glitches while using the s...\n",
      "4     I was skeptical about trying the software init...\n",
      "5     The analytics features have provided us with v...\n",
      "6     I appreciate the regular updates that the soft...\n",
      "7     I attended a training session for the software...\n",
      "8     The software documentation could be more compr...\n",
      "9     I've recommended the software to colleagues du...\n",
      "10    The software integration with third-party plug...\n",
      "11    I'm looking forward to the upcoming release of...\n",
      "12    The user community is active and supportive, m...\n",
      "13    I've been using the software for a while now, ...\n",
      "14    The user interface could use some modernizatio...\n",
      "15    I went for a run and the software did a good j...\n",
      "Name: cleaned_text, dtype: object\n"
     ]
    }
   ],
   "source": [
    "df['cleaned_text'] = df['text'].apply(remove_metadata)\n",
    "print(df['cleaned_text'])"
   ]
  },
  {
   "cell_type": "code",
   "execution_count": null,
   "id": "e8fb0192-67a2-4d28-b797-134e7887e50c",
   "metadata": {},
   "outputs": [],
   "source": []
  },
  {
   "cell_type": "code",
   "execution_count": null,
   "id": "f20b3e6c-be44-45db-8f1e-07996ff2e51a",
   "metadata": {},
   "outputs": [],
   "source": []
  },
  {
   "cell_type": "code",
   "execution_count": null,
   "id": "e242c45b-3cc3-4498-ab8b-d7fbd312a0b1",
   "metadata": {},
   "outputs": [],
   "source": []
  },
  {
   "cell_type": "code",
   "execution_count": null,
   "id": "e0c7d4e5-3b93-4cb4-8562-0568da594f69",
   "metadata": {},
   "outputs": [],
   "source": []
  },
  {
   "cell_type": "code",
   "execution_count": null,
   "id": "a6cee77c-5536-4612-9d37-2863bd45e081",
   "metadata": {},
   "outputs": [],
   "source": []
  },
  {
   "cell_type": "code",
   "execution_count": null,
   "id": "a7860ae2-7482-436b-9df5-658be4810670",
   "metadata": {},
   "outputs": [],
   "source": []
  },
  {
   "cell_type": "code",
   "execution_count": null,
   "id": "1c6ebe44-77bc-43c2-984b-557326901e2b",
   "metadata": {},
   "outputs": [],
   "source": []
  },
  {
   "cell_type": "code",
   "execution_count": null,
   "id": "49aa0f42-94e0-4c52-b398-e829fb582a3b",
   "metadata": {},
   "outputs": [],
   "source": []
  }
 ],
 "metadata": {
  "kernelspec": {
   "display_name": "Python 3 (ipykernel)",
   "language": "python",
   "name": "python3"
  },
  "language_info": {
   "codemirror_mode": {
    "name": "ipython",
    "version": 3
   },
   "file_extension": ".py",
   "mimetype": "text/x-python",
   "name": "python",
   "nbconvert_exporter": "python",
   "pygments_lexer": "ipython3",
   "version": "3.11.7"
  }
 },
 "nbformat": 4,
 "nbformat_minor": 5
}
