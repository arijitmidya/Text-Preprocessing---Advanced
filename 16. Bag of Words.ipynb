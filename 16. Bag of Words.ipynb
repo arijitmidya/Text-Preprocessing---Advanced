{
 "cells": [
  {
   "cell_type": "code",
   "execution_count": 1,
   "id": "8af8c2d3-1ddf-49eb-aa6b-247bfa0813b3",
   "metadata": {},
   "outputs": [
    {
     "name": "stdout",
     "output_type": "stream",
     "text": [
      "Requirement already satisfied: nltk in c:\\users\\ariji\\anaconda3\\lib\\site-packages (3.8.1)\n",
      "Requirement already satisfied: click in c:\\users\\ariji\\anaconda3\\lib\\site-packages (from nltk) (8.1.7)\n",
      "Requirement already satisfied: joblib in c:\\users\\ariji\\anaconda3\\lib\\site-packages (from nltk) (1.2.0)\n",
      "Requirement already satisfied: regex>=2021.8.3 in c:\\users\\ariji\\anaconda3\\lib\\site-packages (from nltk) (2023.10.3)\n",
      "Requirement already satisfied: tqdm in c:\\users\\ariji\\anaconda3\\lib\\site-packages (from nltk) (4.65.0)\n",
      "Requirement already satisfied: colorama in c:\\users\\ariji\\anaconda3\\lib\\site-packages (from click->nltk) (0.4.6)\n"
     ]
    }
   ],
   "source": [
    "! pip install nltk"
   ]
  },
  {
   "attachments": {
    "da6cdf18-fe1d-48b7-a889-7e5924028795.png": {
     "image/png": "[encoded data removed]"
    }
   },
   "cell_type": "markdown",
   "id": "8ac90555-f29e-4985-b9bf-0bc527ecf09b",
   "metadata": {},
   "source": [
    "# Bag of Words ( BOW )\n",
    "\n",
    "The bag-of-words (BoW) is an essential technique to represent text data in a numerical format that machine learning algorithms can understand. We \n",
    "normally use this technique when we’ve cleaned the text data and need to use it for machine-learning model training. It allows us to treat text data as \n",
    "an unordered collection of words and disregard grammar, word order, and context. As a result, we find its application in scenarios where the context\n",
    "or sequence of words is less important than the frequency of individual words.\n",
    "\n",
    "Calculating BoW :\n",
    "\n",
    "Let’s consider a simple BoW calculation for a given document. Suppose we have the following document A: “I love to eat cakes. Cakes are delicious.”\n",
    "To perform a BoW calculation:\n",
    "\n",
    "We first tokenize the document, which means splitting it into individual words: [“I”, “love”, “to”, “eat”, “cakes”, “Cakes”, “are”, “delicious”].\n",
    "\n",
    "Next, we create a vector representation of the document where each element represents the count of a specific word in the document. We consider each\n",
    "unique word in the document and count how many times it appears. BoW vector: [1, 1, 1, 1, 2, 1, 1, 1]. In this case, the BoW vector shows that the \n",
    "word “I” appears once, “love” appears once, “to” appears once, “eat” appears once, “cakes” appears twice, “are” appears once, and “delicious” appears \n",
    "once in the document. This BoW vector representation allows us to capture the word frequencies in the document, disregarding the order or structure \n",
    "of the text.\n",
    "\n",
    "Steps for applying BOW for text preprocessing :\n",
    "\n",
    "![image.png](attachment:da6cdf18-fe1d-48b7-a889-7e5924028795.png)\n",
    "\n"
   ]
  },
  {
   "cell_type": "code",
   "execution_count": 1,
   "id": "140e70e1-fa42-4c59-adfe-5b455b558d35",
   "metadata": {},
   "outputs": [],
   "source": [
    "import pandas as pd\n",
    "from sklearn.feature_extraction.text import CountVectorizer"
   ]
  },
  {
   "cell_type": "code",
   "execution_count": 2,
   "id": "dbf10182-49e5-404a-a40d-b0117b638fd1",
   "metadata": {},
   "outputs": [
    {
     "data": {
      "text/html": [
       "<div>\n",
       "<style scoped>\n",
       "    .dataframe tbody tr th:only-of-type {\n",
       "        vertical-align: middle;\n",
       "    }\n",
       "\n",
       "    .dataframe tbody tr th {\n",
       "        vertical-align: top;\n",
       "    }\n",
       "\n",
       "    .dataframe thead th {\n",
       "        text-align: right;\n",
       "    }\n",
       "</style>\n",
       "<table border=\"1\" class=\"dataframe\">\n",
       "  <thead>\n",
       "    <tr style=\"text-align: right;\">\n",
       "      <th></th>\n",
       "      <th>review_id</th>\n",
       "      <th>text</th>\n",
       "    </tr>\n",
       "  </thead>\n",
       "  <tbody>\n",
       "    <tr>\n",
       "      <th>0</th>\n",
       "      <td>txt145</td>\n",
       "      <td>The software had a steep learning curve at fir...</td>\n",
       "    </tr>\n",
       "    <tr>\n",
       "      <th>1</th>\n",
       "      <td>txt327</td>\n",
       "      <td>I'm really impressed with the user interface o...</td>\n",
       "    </tr>\n",
       "    <tr>\n",
       "      <th>2</th>\n",
       "      <td>txt209</td>\n",
       "      <td>The latest update to the software fixed severa...</td>\n",
       "    </tr>\n",
       "    <tr>\n",
       "      <th>3</th>\n",
       "      <td>txt825</td>\n",
       "      <td>I encountered a few glitches while using the s...</td>\n",
       "    </tr>\n",
       "    <tr>\n",
       "      <th>4</th>\n",
       "      <td>txt878</td>\n",
       "      <td>I was skeptical about trying the software init...</td>\n",
       "    </tr>\n",
       "  </tbody>\n",
       "</table>\n",
       "</div>"
      ],
      "text/plain": [
       "  review_id                                               text\n",
       "0    txt145  The software had a steep learning curve at fir...\n",
       "1    txt327  I'm really impressed with the user interface o...\n",
       "2    txt209  The latest update to the software fixed severa...\n",
       "3    txt825  I encountered a few glitches while using the s...\n",
       "4    txt878  I was skeptical about trying the software init..."
      ]
     },
     "execution_count": 2,
     "metadata": {},
     "output_type": "execute_result"
    }
   ],
   "source": [
    "# Read the necessary dataset\n",
    "\n",
    "df = pd.read_csv(\"C:/Users/ariji/OneDrive/Desktop/Data/reviews.csv\")\n",
    "df.head()"
   ]
  },
  {
   "cell_type": "code",
   "execution_count": 5,
   "id": "770143ca-588a-4796-96d1-05cee42b7c08",
   "metadata": {},
   "outputs": [
    {
     "name": "stdout",
     "output_type": "stream",
     "text": [
      "    about  active  address  advanced  after  analytics  and  appreciate  are  \\\n",
      "0       0       0        0         0      1          0    0           1    0   \n",
      "1       0       0        0         0      0          0    1           0    0   \n",
      "2       0       0        0         0      0          0    1           0    0   \n",
      "3       0       0        0         0      0          0    0           0    0   \n",
      "4       1       0        0         0      0          0    0           0    0   \n",
      "5       0       0        0         0      0          1    0           0    0   \n",
      "6       0       0        0         0      0          0    1           1    0   \n",
      "7       0       0        0         1      0          0    1           0    0   \n",
      "8       0       0        0         0      0          0    0           0    1   \n",
      "9       0       0        0         0      0          0    0           0    0   \n",
      "10      0       0        0         0      0          0    1           0    0   \n",
      "11      0       0        1         0      0          0    0           0    0   \n",
      "12      0       1        0         0      0          0    2           0    0   \n",
      "13      0       0        0         0      0          0    2           0    0   \n",
      "14      0       0        0         0      0          0    0           0    0   \n",
      "15      0       0        0         0      0          0    1           0    0   \n",
      "\n",
      "    as  ...  using  valuable  ve  versatile  was  well  went  which  while  \\\n",
      "0    0  ...      0         0   0          0    0     0     0      0      1   \n",
      "1    0  ...      0         0   0          0    0     0     0      0      0   \n",
      "2    0  ...      0         0   0          0    0     0     0      0      0   \n",
      "3    0  ...      1         0   0          0    1     0     0      0      1   \n",
      "4    0  ...      0         0   0          0    1     0     0      0      0   \n",
      "5    0  ...      0         1   0          0    0     0     0      0      0   \n",
      "6    1  ...      0         0   0          0    0     0     0      0      0   \n",
      "7    0  ...      0         0   0          0    0     0     0      0      0   \n",
      "8    1  ...      0         0   0          0    0     1     0      0      0   \n",
      "9    0  ...      0         0   1          0    0     0     0      0      0   \n",
      "10   0  ...      0         0   0          1    0     0     0      0      0   \n",
      "11   0  ...      0         0   0          0    0     0     0      1      0   \n",
      "12   0  ...      0         0   0          0    0     0     0      0      0   \n",
      "13   0  ...      1         0   1          0    0     0     0      0      1   \n",
      "14   1  ...      0         0   0          0    0     0     0      0      0   \n",
      "15   0  ...      0         0   0          0    0     0     1      0      0   \n",
      "\n",
      "    with  \n",
      "0      0  \n",
      "1      1  \n",
      "2      0  \n",
      "3      0  \n",
      "4      0  \n",
      "5      1  \n",
      "6      0  \n",
      "7      0  \n",
      "8      0  \n",
      "9      0  \n",
      "10     1  \n",
      "11     0  \n",
      "12     0  \n",
      "13     0  \n",
      "14     0  \n",
      "15     0  \n",
      "\n",
      "[16 rows x 150 columns]\n"
     ]
    }
   ],
   "source": [
    "reviews = df['text']\n",
    "vectorizer = CountVectorizer()\n",
    "X = vectorizer.fit_transform(reviews)\n",
    "feature_names = vectorizer.get_feature_names_out()\n",
    "X_array = X.toarray()\n",
    "bow_df = pd.DataFrame(X_array, columns=feature_names)\n",
    "print(bow_df)"
   ]
  },
  {
   "cell_type": "code",
   "execution_count": 10,
   "id": "439ccf4e-b17a-4bf7-b37c-1df3ef9ec668",
   "metadata": {},
   "outputs": [
    {
     "data": {
      "text/plain": [
       "150"
      ]
     },
     "execution_count": 10,
     "metadata": {},
     "output_type": "execute_result"
    }
   ],
   "source": [
    "len(feature_names)"
   ]
  },
  {
   "cell_type": "markdown",
   "id": "4e9d67ca-9047-448f-9f4b-051959341c9e",
   "metadata": {},
   "source": [
    "# Advantages and limitations\n",
    "\n",
    "Advantages of BoW include:\n",
    "\n",
    "Simplicity and efficiency: BoW is straightforward and computationally efficient, making it suitable for large text datasets.\n",
    "\n",
    "Language agnostic: We can create BoW for various languages without requiring linguistic knowledge, making it versatile for multilingual tasks.\n",
    "\n",
    "Versatility in applications: We use this technique for various NLP tasks like text classification, sentiment analysis, and information retrieval.\n",
    "\n",
    "On the other hand, limitations of BoW include:\n",
    "\n",
    "Loss of word order: BoW disregards word order and sentence structure, leading to a loss of crucial semantic information. For example, consider the \n",
    "phrases “hot coffee” vs. “coffee hot.” BoW would treat both phrases as identical, even though the word order plays a crucial role in distinguishing\n",
    "between a beverage (hot coffee) and an adjective-noun phrase (coffee hot).\n",
    "\n",
    "Semantic meaning: BoW can’t capture semantic relationships between words, which restricts its ability to understand context and meaning. For instance, \n",
    "BoW treats “big” and “large” as separate and unrelated words, disregarding their similar meanings and limiting the model’s ability to understand the\n",
    "context in which they’re used interchangeably.\n",
    "\n",
    "Equal weighting: All words are treated equally, regardless of their importance or rarity in the language, potentially leading to suboptimal results.\n",
    "For example, in a medical document, certain specialized terms like “diagnosis,” “treatment,” or “symptoms” might hold pivotal information. However, in \n",
    "BoW, these terms receive no special treatment, and their significance might diminish when compared to more common words like “the” or “and.” \n",
    "One approach to addressing this issue involves utilizing the TF-IDF method for text representation, which considers the importance of words.\n",
    "\n",
    "Generation of a large and sparse matrix: The size and sparsity of the generated matrix are a limitation due to the nature of BoW representation, where\n",
    "each unique word in the corpus is typically converted into a feature/column in the matrix, resulting in a high-dimensional representation. We can use \n",
    "dimensionality reduction or sparse matrix representations to mitigate this challenge.\n",
    "\n"
   ]
  },
  {
   "cell_type": "code",
   "execution_count": null,
   "id": "479faa27-14de-4849-b3a5-4eae1642645c",
   "metadata": {},
   "outputs": [],
   "source": []
  },
  {
   "cell_type": "code",
   "execution_count": null,
   "id": "5446243f-fa55-4cb3-9013-d85b7b3da8a2",
   "metadata": {},
   "outputs": [],
   "source": []
  },
  {
   "cell_type": "code",
   "execution_count": null,
   "id": "e7ee0b1d-1e72-4b46-810f-06d3d78ebeea",
   "metadata": {},
   "outputs": [],
   "source": []
  }
 ],
 "metadata": {
  "kernelspec": {
   "display_name": "Python 3 (ipykernel)",
   "language": "python",
   "name": "python3"
  },
  "language_info": {
   "codemirror_mode": {
    "name": "ipython",
    "version": 3
   },
   "file_extension": ".py",
   "mimetype": "text/x-python",
   "name": "python",
   "nbconvert_exporter": "python",
   "pygments_lexer": "ipython3",
   "version": "3.11.7"
  }
 },
 "nbformat": 4,
 "nbformat_minor": 5
}
