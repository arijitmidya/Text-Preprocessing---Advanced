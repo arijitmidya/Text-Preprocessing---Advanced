{
 "cells": [
  {
   "cell_type": "markdown",
   "id": "87577701-7104-4683-aee1-2926eeeca0e6",
   "metadata": {},
   "source": [
    "# Numeric Digit normalization\n",
    "\n",
    "In text data, numbers can appear in diverse formats, leading to challenges in analysis and modeling. For example, “two pizzas” and “2 pizzas” might refer\n",
    "to the same quantity but appear differently. Numeric digit normalization addresses these discrepancies, allowing algorithms to treat different \n",
    "representations of the same number as equivalent. It involves converting different representations of numeric digits within text data into a \n",
    "standardized format and, as a result, helps ensure consistency in the representation of numbers, making it easier to analyze and understand the data.\n",
    "\n",
    "Common approaches for performing numeric digit normalization include:\n",
    "\n",
    "Converting words to digits: This approach involves converting numeric words to their corresponding digits. For example, “five” would be transformed\n",
    "into “5.” This would ensure that numeric words are consistently represented as digits, making them compatible with calculations and comparisons.\n",
    "\n",
    "Converting digits to words: This technique involves converting numeric digits to words, which can enhance text readability. For instance, “10” could be \n",
    "transformed into “ten.”\n",
    "\n",
    "Removing numeric separators: Numeric digits might be separated by commas, spaces, or other symbols. Removing these separators would ensure that numeric \n",
    "representations remain uniform. For example, “1,000” and “1000” would be normalized to “1000.”\n",
    "\n",
    "    "
   ]
  },
  {
   "cell_type": "code",
   "execution_count": 2,
   "id": "54a75d77-903d-4fda-bb1a-902bda489265",
   "metadata": {},
   "outputs": [
    {
     "name": "stdout",
     "output_type": "stream",
     "text": [
      "Collecting inflect\n",
      "  Downloading inflect-7.4.0-py3-none-any.whl.metadata (21 kB)\n",
      "Requirement already satisfied: more-itertools>=8.5.0 in c:\\users\\ariji\\anaconda3\\lib\\site-packages (from inflect) (10.1.0)\n",
      "Requirement already satisfied: typeguard>=4.0.1 in c:\\users\\ariji\\anaconda3\\lib\\site-packages (from inflect) (4.2.1)\n",
      "Requirement already satisfied: typing-extensions>=4.10.0 in c:\\users\\ariji\\anaconda3\\lib\\site-packages (from typeguard>=4.0.1->inflect) (4.12.2)\n",
      "Downloading inflect-7.4.0-py3-none-any.whl (34 kB)\n",
      "Installing collected packages: inflect\n",
      "Successfully installed inflect-7.4.0\n"
     ]
    }
   ],
   "source": [
    "! pip install inflect"
   ]
  },
  {
   "cell_type": "code",
   "execution_count": 4,
   "id": "82116f2f-6bcb-48f6-89bd-cf851849d865",
   "metadata": {},
   "outputs": [
    {
     "name": "stdout",
     "output_type": "stream",
     "text": [
      "Collecting word2number\n",
      "  Downloading word2number-1.1.zip (9.7 kB)\n",
      "  Preparing metadata (setup.py): started\n",
      "  Preparing metadata (setup.py): finished with status 'done'\n",
      "Building wheels for collected packages: word2number\n",
      "  Building wheel for word2number (setup.py): started\n",
      "  Building wheel for word2number (setup.py): finished with status 'done'\n",
      "  Created wheel for word2number: filename=word2number-1.1-py3-none-any.whl size=5588 sha256=4b63e5218ebdd078e57828c2ab2e2ba16e8b43c98f93be2db374a53930222e35\n",
      "  Stored in directory: c:\\users\\ariji\\appdata\\local\\pip\\cache\\wheels\\cd\\ef\\ae\\073b491b14d25e2efafcffca9e16b2ee6d114ec5c643ba4f06\n",
      "Successfully built word2number\n",
      "Installing collected packages: word2number\n",
      "Successfully installed word2number-1.1\n"
     ]
    }
   ],
   "source": [
    "! pip install word2number"
   ]
  },
  {
   "cell_type": "code",
   "execution_count": 5,
   "id": "55ee8ee4-1246-4da5-9f1a-e8506d45fb37",
   "metadata": {},
   "outputs": [],
   "source": [
    "import pandas as pd\n",
    "import spacy\n",
    "import inflect\n",
    "import re\n",
    "from word2number import w2n"
   ]
  },
  {
   "cell_type": "code",
   "execution_count": 6,
   "id": "73f7e2f8-c7ee-45c2-9ef6-f89d34339e25",
   "metadata": {},
   "outputs": [
    {
     "data": {
      "text/html": [
       "<div>\n",
       "<style scoped>\n",
       "    .dataframe tbody tr th:only-of-type {\n",
       "        vertical-align: middle;\n",
       "    }\n",
       "\n",
       "    .dataframe tbody tr th {\n",
       "        vertical-align: top;\n",
       "    }\n",
       "\n",
       "    .dataframe thead th {\n",
       "        text-align: right;\n",
       "    }\n",
       "</style>\n",
       "<table border=\"1\" class=\"dataframe\">\n",
       "  <thead>\n",
       "    <tr style=\"text-align: right;\">\n",
       "      <th></th>\n",
       "      <th>review_id</th>\n",
       "      <th>text</th>\n",
       "    </tr>\n",
       "  </thead>\n",
       "  <tbody>\n",
       "    <tr>\n",
       "      <th>0</th>\n",
       "      <td>txt145</td>\n",
       "      <td>The software had a steep learning curve at fir...</td>\n",
       "    </tr>\n",
       "    <tr>\n",
       "      <th>1</th>\n",
       "      <td>txt327</td>\n",
       "      <td>I'm really impressed with the user interface o...</td>\n",
       "    </tr>\n",
       "    <tr>\n",
       "      <th>2</th>\n",
       "      <td>txt209</td>\n",
       "      <td>The latest update to the software fixed severa...</td>\n",
       "    </tr>\n",
       "    <tr>\n",
       "      <th>3</th>\n",
       "      <td>txt825</td>\n",
       "      <td>I encountered a few glitches while using the s...</td>\n",
       "    </tr>\n",
       "    <tr>\n",
       "      <th>4</th>\n",
       "      <td>txt878</td>\n",
       "      <td>I was skeptical about trying the software init...</td>\n",
       "    </tr>\n",
       "  </tbody>\n",
       "</table>\n",
       "</div>"
      ],
      "text/plain": [
       "  review_id                                               text\n",
       "0    txt145  The software had a steep learning curve at fir...\n",
       "1    txt327  I'm really impressed with the user interface o...\n",
       "2    txt209  The latest update to the software fixed severa...\n",
       "3    txt825  I encountered a few glitches while using the s...\n",
       "4    txt878  I was skeptical about trying the software init..."
      ]
     },
     "execution_count": 6,
     "metadata": {},
     "output_type": "execute_result"
    }
   ],
   "source": [
    "# Read the necessary dataset\n",
    "\n",
    "df = pd.read_csv(\"C:/Users/ariji/OneDrive/Desktop/Data/reviews.csv\")\n",
    "df.head()"
   ]
  },
  {
   "cell_type": "code",
   "execution_count": 7,
   "id": "b0499a02-923d-40c9-b025-fe1a71e726f0",
   "metadata": {},
   "outputs": [],
   "source": [
    "nlp = spacy.load(\"en_core_web_sm\")\n",
    "p = inflect.engine()\n",
    "def convert_words_to_digits(text):\n",
    "    doc = nlp(text)\n",
    "    converted_tokens = []\n",
    "    for token in doc:\n",
    "        if token.text.isdigit():\n",
    "            converted_tokens.append(token.text)\n",
    "        else:\n",
    "            try:\n",
    "                num = w2n.word_to_num(token.text)\n",
    "                converted_tokens.append(str(num))\n",
    "            except ValueError:\n",
    "                converted_tokens.append(token.text)\n",
    "    converted_text = \" \".join(converted_tokens)\n",
    "    return converted_text\n",
    "def replace_digit_with_word(match):\n",
    "    return p.number_to_words(match.group())\n",
    "def convert_digits_to_words(text):\n",
    "    converted_text = re.sub(r'\\b\\d+\\b', replace_digit_with_word, text)\n",
    "    return converted_text\n",
    "def remove_numeric_separators(text):\n",
    "    return re.sub(r'(?<=\\d)[ ,](?=\\d)', '', text)"
   ]
  },
  {
   "cell_type": "code",
   "execution_count": 8,
   "id": "5f3e339b-9b3a-47e7-aea6-d2f5360d3498",
   "metadata": {},
   "outputs": [
    {
     "name": "stdout",
     "output_type": "stream",
     "text": [
      "Review normalized (words to digits):\n",
      "0     The software had a steep learning curve at fir...\n",
      "1     I 'm really impressed with the user interface ...\n",
      "2     The latest update to the software fixed severa...\n",
      "3     I encountered a few glitches while using the s...\n",
      "4     I was skeptical about trying the software init...\n",
      "5     The analytics features have provided us with v...\n",
      "6     I appreciate the regular updates that the soft...\n",
      "7     I attended a training session for the software...\n",
      "8     The software documentation could be more compr...\n",
      "9     I 've recommended the software to colleagues d...\n",
      "10    The software integration with third - party pl...\n",
      "11    I 'm looking forward to the upcoming release o...\n",
      "12    The user community is active and supportive , ...\n",
      "13    I 've been using the software for a while now ...\n",
      "14    The user interface could use some modernizatio...\n",
      "15    I went for a run and the software did a good j...\n",
      "Name: review_normalized_words_to_digits, dtype: object\n",
      "\n",
      "Review normalized (digits to words):\n",
      "0     The software had a steep learning curve at fir...\n",
      "1     I'm really impressed with the user interface o...\n",
      "2     The latest update to the software fixed severa...\n",
      "3     I encountered a few glitches while using the s...\n",
      "4     I was skeptical about trying the software init...\n",
      "5     The analytics features have provided us with v...\n",
      "6     I appreciate the regular updates that the soft...\n",
      "7     I attended a training session for the software...\n",
      "8     The software documentation could be more compr...\n",
      "9     I've recommended the software to colleagues du...\n",
      "10    The software integration with third-party plug...\n",
      "11    I'm looking forward to the upcoming release of...\n",
      "12    The user community is active and supportive, m...\n",
      "13    I've been using the software for a while now, ...\n",
      "14    The user interface could use some modernizatio...\n",
      "15    I went for a run and the software did a good j...\n",
      "Name: review_normalized_digits_to_words, dtype: object\n",
      "\n",
      "Review normalized (no separators):\n"
     ]
    }
   ],
   "source": [
    "df['review_normalized_words_to_digits'] = df['text'].apply(convert_words_to_digits)\n",
    "df['review_normalized_digits_to_words'] = df['text'].apply(convert_digits_to_words)\n",
    "df['review_normalized_no_separators'] = df['text'].apply(remove_numeric_separators)\n",
    "print(\"Review normalized (words to digits):\")\n",
    "print(df['review_normalized_words_to_digits'])\n",
    "print(\"\\nReview normalized (digits to words):\")\n",
    "print(df['review_normalized_digits_to_words'])\n",
    "print(\"\\nReview normalized (no separators):\")"
   ]
  },
  {
   "cell_type": "markdown",
   "id": "ad72c075-6395-40a4-b6c4-743b1edf3dab",
   "metadata": {},
   "source": [
    "# Handling Contractions\n",
    "\n",
    "Handling contractions is a text preprocessing technique that involves expanding contractions into their complete form. A contraction is a shortened \n",
    "form of two words, such as “don’t” for “do not,” “it’s” for “it is,” or “can’t” for “cannot.” Expanding contractions can make the text more\n",
    "standardized, making identifying individual words and their meanings easier."
   ]
  },
  {
   "cell_type": "code",
   "execution_count": 9,
   "id": "abd15f41-f3fe-4a25-97c2-317bdced5094",
   "metadata": {},
   "outputs": [],
   "source": [
    "import pandas as pd\n",
    "import contractions"
   ]
  },
  {
   "cell_type": "code",
   "execution_count": 10,
   "id": "cc3c3270-1b03-4cc4-9c7a-08bbaa347d21",
   "metadata": {},
   "outputs": [
    {
     "data": {
      "text/html": [
       "<div>\n",
       "<style scoped>\n",
       "    .dataframe tbody tr th:only-of-type {\n",
       "        vertical-align: middle;\n",
       "    }\n",
       "\n",
       "    .dataframe tbody tr th {\n",
       "        vertical-align: top;\n",
       "    }\n",
       "\n",
       "    .dataframe thead th {\n",
       "        text-align: right;\n",
       "    }\n",
       "</style>\n",
       "<table border=\"1\" class=\"dataframe\">\n",
       "  <thead>\n",
       "    <tr style=\"text-align: right;\">\n",
       "      <th></th>\n",
       "      <th>review_id</th>\n",
       "      <th>text</th>\n",
       "    </tr>\n",
       "  </thead>\n",
       "  <tbody>\n",
       "    <tr>\n",
       "      <th>0</th>\n",
       "      <td>txt145</td>\n",
       "      <td>The software had a steep learning curve at fir...</td>\n",
       "    </tr>\n",
       "    <tr>\n",
       "      <th>1</th>\n",
       "      <td>txt327</td>\n",
       "      <td>I'm really impressed with the user interface o...</td>\n",
       "    </tr>\n",
       "    <tr>\n",
       "      <th>2</th>\n",
       "      <td>txt209</td>\n",
       "      <td>The latest update to the software fixed severa...</td>\n",
       "    </tr>\n",
       "    <tr>\n",
       "      <th>3</th>\n",
       "      <td>txt825</td>\n",
       "      <td>I encountered a few glitches while using the s...</td>\n",
       "    </tr>\n",
       "    <tr>\n",
       "      <th>4</th>\n",
       "      <td>txt878</td>\n",
       "      <td>I was skeptical about trying the software init...</td>\n",
       "    </tr>\n",
       "  </tbody>\n",
       "</table>\n",
       "</div>"
      ],
      "text/plain": [
       "  review_id                                               text\n",
       "0    txt145  The software had a steep learning curve at fir...\n",
       "1    txt327  I'm really impressed with the user interface o...\n",
       "2    txt209  The latest update to the software fixed severa...\n",
       "3    txt825  I encountered a few glitches while using the s...\n",
       "4    txt878  I was skeptical about trying the software init..."
      ]
     },
     "execution_count": 10,
     "metadata": {},
     "output_type": "execute_result"
    }
   ],
   "source": [
    "# Read the necessary dataset\n",
    "\n",
    "df = pd.read_csv(\"C:/Users/ariji/OneDrive/Desktop/Data/reviews.csv\")\n",
    "df.head()"
   ]
  },
  {
   "cell_type": "code",
   "execution_count": 11,
   "id": "3988ef68-5ca0-4c6a-8102-d2814ae261da",
   "metadata": {},
   "outputs": [],
   "source": [
    "def expand_contractions(text):\n",
    "    return contractions.fix(text)"
   ]
  },
  {
   "cell_type": "code",
   "execution_count": 12,
   "id": "24f48255-c549-4ec9-9da9-8cd49c808767",
   "metadata": {},
   "outputs": [
    {
     "name": "stdout",
     "output_type": "stream",
     "text": [
      "0     The software had a steep learning curve at fir...\n",
      "1     I am really impressed with the user interface ...\n",
      "2     The latest update to the software fixed severa...\n",
      "3     I encountered a few glitches while using the s...\n",
      "4     I was skeptical about trying the software init...\n",
      "5     The analytics features have provided us with v...\n",
      "6     I appreciate the regular updates that the soft...\n",
      "7     I attended a training session for the software...\n",
      "8     The software documentation could be more compr...\n",
      "9     I have recommended the software to colleagues ...\n",
      "10    The software integration with third-party plug...\n",
      "11    I am looking forward to the upcoming release o...\n",
      "12    The user community is active and supportive, m...\n",
      "13    I have been using the software for a while now...\n",
      "14    The user interface could use some modernizatio...\n",
      "15    I went for a run and the software did a good j...\n",
      "Name: text, dtype: object\n"
     ]
    }
   ],
   "source": [
    "df[\"text\"] = df[\"text\"].apply(expand_contractions)\n",
    "print(df[\"text\"])"
   ]
  },
  {
   "cell_type": "code",
   "execution_count": null,
   "id": "4acc7afd-7844-4aa4-a1b3-5b44448f895a",
   "metadata": {},
   "outputs": [],
   "source": []
  }
 ],
 "metadata": {
  "kernelspec": {
   "display_name": "Python 3 (ipykernel)",
   "language": "python",
   "name": "python3"
  },
  "language_info": {
   "codemirror_mode": {
    "name": "ipython",
    "version": 3
   },
   "file_extension": ".py",
   "mimetype": "text/x-python",
   "name": "python",
   "nbconvert_exporter": "python",
   "pygments_lexer": "ipython3",
   "version": "3.11.7"
  }
 },
 "nbformat": 4,
 "nbformat_minor": 5
}
