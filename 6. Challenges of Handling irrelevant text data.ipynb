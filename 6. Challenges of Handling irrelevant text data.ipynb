{
 "cells": [
  {
   "cell_type": "markdown",
   "id": "0ab7304c-fc8b-4460-b26b-ade847930059",
   "metadata": {},
   "source": [
    "# 1. Loss of Contextual information\n",
    "\n",
    "Loss of contextual information is a significant challenge in removing irrelevant text data during preprocessing. When we remove certain words from a \n",
    "sentence without considering the context, we risk losing important information that may be necessary for understanding the meaning of the text. For \n",
    "example, consider the sentence, “I am reading a book about Python.” If we remove the words “a” and “book,” because they are irrelevant, we end up\n",
    "with “I am reading about Python,” which no longer conveys the initial meaning.\n"
   ]
  },
  {
   "cell_type": "code",
   "execution_count": 1,
   "id": "bf098662-a446-4f58-93b6-a73b1c21932a",
   "metadata": {},
   "outputs": [
    {
     "name": "stdout",
     "output_type": "stream",
     "text": [
      "I am reading about Python\n"
     ]
    }
   ],
   "source": [
    "sentence = \"I am reading a book about Python\"\n",
    "stop_words = set([\"a\", \"book\"])\n",
    "words = sentence.split()\n",
    "words_filtered = [word for word in words if word.lower() not in stop_words]\n",
    "filtered_sentence = \" \".join(words_filtered)\n",
    "print(filtered_sentence)"
   ]
  },
  {
   "cell_type": "markdown",
   "id": "42491249-ae6e-4369-838f-dee813d44114",
   "metadata": {},
   "source": [
    "# 2. Ambiguity\n",
    "\n",
    "Ambiguity in what is considered irrelevant is a common challenge when removing irrelevant text data during preprocessing. Different contexts can give \n",
    "different meanings to the same word, and it can be challenging to determine whether a word is genuinely irrelevant or not. For example, consider the\n",
    "sentence, “I am looking for a bank to deposit my money.” In this context, the word “bank” refers to a financial institution; we might want to keep \n",
    "this word. However, if the sentence was “I am standing on the bank of the river,” “bank” would refer to the edge of a river and might be considered\n",
    "irrelevant.\n"
   ]
  },
  {
   "cell_type": "code",
   "execution_count": 2,
   "id": "8d49fb93-5be5-4509-b15c-d572d6643666",
   "metadata": {},
   "outputs": [
    {
     "name": "stdout",
     "output_type": "stream",
     "text": [
      "I am standing river\n"
     ]
    }
   ],
   "source": [
    "sentence = \"I am standing on the bank of the river\"\n",
    "stop_words = set([\"bank\", \"the\", \"on\", \"of\"])\n",
    "words = sentence.split()\n",
    "words_filtered = [word for word in words if word.lower() not in stop_words]\n",
    "filtered_sentence = \" \".join(words_filtered)\n",
    "print(filtered_sentence)"
   ]
  },
  {
   "cell_type": "markdown",
   "id": "1a617296-640b-4188-b85c-3b538d474388",
   "metadata": {},
   "source": [
    "# 3. Bias in data removal\n",
    "\n",
    "Bias in data removal is another challenge when removing irrelevant text data during preprocessing. The decision of what constitutes irrelevant data \n",
    "is subjective and can be influenced by personal biases or assumptions. For example, consider a study on consumer preferences that excludes certain\n",
    "demographic groups from the data. This exclusion can result in biased data removal, affecting the accuracy of the results.\n"
   ]
  },
  {
   "cell_type": "code",
   "execution_count": 3,
   "id": "419c6fe5-7046-41ad-9d0c-95fae8eee92a",
   "metadata": {},
   "outputs": [
    {
     "name": "stdout",
     "output_type": "stream",
     "text": [
      "love chocolate.\n",
      "prefer steak over salad.\n",
      "People enjoy pizza on Friday nights.\n"
     ]
    }
   ],
   "source": [
    "sentences = [\"Women love chocolate.\",\n",
    "             \"Men prefer steak over salad.\",\n",
    "             \"People enjoy pizza on Friday nights.\"]\n",
    "stop_words = set([\"women\", \"men\"])\n",
    "for sentence in sentences:\n",
    "    words = sentence.split()\n",
    "    words_filtered = [word for word in words if word.lower() not in stop_words]\n",
    "    filtered_sentence = \" \".join(words_filtered)\n",
    "    print(filtered_sentence)"
   ]
  },
  {
   "cell_type": "markdown",
   "id": "bb57b098-a335-42f1-9798-496e318d3ac3",
   "metadata": {},
   "source": [
    "# 4. Variability in text data\n",
    "\n",
    "variable in spelling, grammar, syntax, and punctuation. For example, consider the sentence, “I have to go to the store, but I’m not sure where it is.” \n",
    "If we’re looking to remove the word “but” as irrelevant, we also need to account for the fact that it can appear in different forms, such as \n",
    "“however,” “although,” or “yet,” among others.\n"
   ]
  },
  {
   "cell_type": "code",
   "execution_count": 4,
   "id": "f99adbca-43cc-4ad4-9113-d918f0f8a4d8",
   "metadata": {},
   "outputs": [
    {
     "name": "stdout",
     "output_type": "stream",
     "text": [
      "I have to go to the store,  I'm not sure where it is.\n",
      "I have an appointment, although I forgot when it is.\n",
      "I'm hungry yet I don't feel like cooking.\n",
      "I have to go to the store,  I'm not sure where it is.\n",
      "I have an appointment,  I forgot when it is.\n",
      "I'm hungry  I don't feel like cooking.\n"
     ]
    }
   ],
   "source": [
    "import re\n",
    "\n",
    "texts = [\n",
    "   \"I have to go to the store, but I'm not sure where it is.\",\n",
    "   \"I have an appointment, although I forgot when it is.\",\n",
    "   \"I'm hungry yet I don't feel like cooking.\"\n",
    "]   \n",
    "pattern = r\"\\bbut\\b\"\n",
    "for text in texts:   \n",
    "   print(re.sub(pattern, \"\", text)) \n",
    "pattern = r\"\\b(but|however|although|yet)\\b\"\n",
    "for text in texts:\n",
    "   print(re.sub(pattern, \"\", text).strip())"
   ]
  },
  {
   "cell_type": "code",
   "execution_count": null,
   "id": "396ab9ab-f522-457e-a366-b126ddfa7cba",
   "metadata": {},
   "outputs": [],
   "source": []
  },
  {
   "cell_type": "code",
   "execution_count": null,
   "id": "43e59994-47b4-4744-83fd-87125de24224",
   "metadata": {},
   "outputs": [],
   "source": []
  },
  {
   "cell_type": "code",
   "execution_count": null,
   "id": "935b36bc-e44c-437a-9237-f3c2e992e821",
   "metadata": {},
   "outputs": [],
   "source": []
  }
 ],
 "metadata": {
  "kernelspec": {
   "display_name": "Python 3 (ipykernel)",
   "language": "python",
   "name": "python3"
  },
  "language_info": {
   "codemirror_mode": {
    "name": "ipython",
    "version": 3
   },
   "file_extension": ".py",
   "mimetype": "text/x-python",
   "name": "python",
   "nbconvert_exporter": "python",
   "pygments_lexer": "ipython3",
   "version": "3.11.7"
  }
 },
 "nbformat": 4,
 "nbformat_minor": 5
}
