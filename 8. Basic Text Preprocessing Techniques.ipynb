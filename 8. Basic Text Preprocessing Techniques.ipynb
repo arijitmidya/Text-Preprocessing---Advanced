{
 "cells": [
  {
   "cell_type": "markdown",
   "id": "446c149f-a855-48e7-b1fa-e3136dd4c892",
   "metadata": {},
   "source": [
    "# Lowercasing and Uppercasing Text"
   ]
  },
  {
   "cell_type": "code",
   "execution_count": 2,
   "id": "fdb8eed8-06a9-44d0-9bfb-02fbc7d57a40",
   "metadata": {},
   "outputs": [
    {
     "data": {
      "text/html": [
       "<div>\n",
       "<style scoped>\n",
       "    .dataframe tbody tr th:only-of-type {\n",
       "        vertical-align: middle;\n",
       "    }\n",
       "\n",
       "    .dataframe tbody tr th {\n",
       "        vertical-align: top;\n",
       "    }\n",
       "\n",
       "    .dataframe thead th {\n",
       "        text-align: right;\n",
       "    }\n",
       "</style>\n",
       "<table border=\"1\" class=\"dataframe\">\n",
       "  <thead>\n",
       "    <tr style=\"text-align: right;\">\n",
       "      <th></th>\n",
       "      <th>review_id</th>\n",
       "      <th>text</th>\n",
       "    </tr>\n",
       "  </thead>\n",
       "  <tbody>\n",
       "    <tr>\n",
       "      <th>0</th>\n",
       "      <td>txt145</td>\n",
       "      <td>The software had a steep learning curve at fir...</td>\n",
       "    </tr>\n",
       "    <tr>\n",
       "      <th>1</th>\n",
       "      <td>txt327</td>\n",
       "      <td>I'm really impressed with the user interface o...</td>\n",
       "    </tr>\n",
       "    <tr>\n",
       "      <th>2</th>\n",
       "      <td>txt209</td>\n",
       "      <td>The latest update to the software fixed severa...</td>\n",
       "    </tr>\n",
       "    <tr>\n",
       "      <th>3</th>\n",
       "      <td>txt825</td>\n",
       "      <td>I encountered a few glitches while using the s...</td>\n",
       "    </tr>\n",
       "    <tr>\n",
       "      <th>4</th>\n",
       "      <td>txt878</td>\n",
       "      <td>I was skeptical about trying the software init...</td>\n",
       "    </tr>\n",
       "  </tbody>\n",
       "</table>\n",
       "</div>"
      ],
      "text/plain": [
       "  review_id                                               text\n",
       "0    txt145  The software had a steep learning curve at fir...\n",
       "1    txt327  I'm really impressed with the user interface o...\n",
       "2    txt209  The latest update to the software fixed severa...\n",
       "3    txt825  I encountered a few glitches while using the s...\n",
       "4    txt878  I was skeptical about trying the software init..."
      ]
     },
     "execution_count": 2,
     "metadata": {},
     "output_type": "execute_result"
    }
   ],
   "source": [
    "# Read the necessary dataset\n",
    "import pandas as pd\n",
    "\n",
    "df = pd.read_csv(\"C:/Users/ariji/OneDrive/Desktop/Data/reviews.csv\")\n",
    "df.head()"
   ]
  },
  {
   "cell_type": "code",
   "execution_count": 5,
   "id": "ca26ebc8-3eb5-41d8-811a-d778524011b0",
   "metadata": {},
   "outputs": [
    {
     "name": "stdout",
     "output_type": "stream",
     "text": [
      "0     the software had a steep learning curve at fir...\n",
      "1     i'm really impressed with the user interface o...\n",
      "2     the latest update to the software fixed severa...\n",
      "3     i encountered a few glitches while using the s...\n",
      "4     i was skeptical about trying the software init...\n",
      "5     the analytics features have provided us with v...\n",
      "6     i appreciate the regular updates that the soft...\n",
      "7     i attended a training session for the software...\n",
      "8     the software documentation could be more compr...\n",
      "9     i've recommended the software to colleagues du...\n",
      "10    the software integration with third-party plug...\n",
      "11    i'm looking forward to the upcoming release of...\n",
      "12    the user community is active and supportive, m...\n",
      "13    i've been using the software for a while now, ...\n",
      "14    the user interface could use some modernizatio...\n",
      "15    i went for a run and the software did a good j...\n",
      "Name: text, dtype: object\n"
     ]
    }
   ],
   "source": [
    "# Converting text to lowercase\n",
    "\n",
    "df['text'] = df['text'].str.lower() \n",
    "print(df['text'])"
   ]
  },
  {
   "cell_type": "code",
   "execution_count": 6,
   "id": "41467e3f-4aeb-41e5-8d55-448d2ccb26ce",
   "metadata": {},
   "outputs": [
    {
     "name": "stdout",
     "output_type": "stream",
     "text": [
      "0     TXT145\n",
      "1     TXT327\n",
      "2     TXT209\n",
      "3     TXT825\n",
      "4     TXT878\n",
      "5     TXT933\n",
      "6     TXT718\n",
      "7     TXT316\n",
      "8     TXT247\n",
      "9     TXT515\n",
      "10    TXT913\n",
      "11    TXT341\n",
      "12    TXT943\n",
      "13    TXT688\n",
      "14    TXT136\n",
      "15    TXT137\n",
      "Name: review_id, dtype: object\n"
     ]
    }
   ],
   "source": [
    "# Converting text to uppercase\n",
    "\n",
    "df['review_id'] = df['review_id'].str.upper() \n",
    "print(df['review_id'])"
   ]
  },
  {
   "cell_type": "markdown",
   "id": "d937364c-4e62-47da-86df-c4e382cf408e",
   "metadata": {},
   "source": [
    "# Punctuation Removal\n",
    "\n",
    "Punctuation removal is the process of removing punctuation marks from text data. Examples of such punctuation marks include periods (.), commas (,),\n",
    "question marks (?), exclamation marks (!), colons (:), semicolons (;), quotation marks (“ ”), parentheses (()), brackets ([]), and hyphens and \n",
    "dashes (-, –, —). Removing such marks produces a text representation that’s less cluttered and more focused on the text’s main ideas, which can\n",
    "improve efforts during data analysis and modeling.\n"
   ]
  },
  {
   "cell_type": "code",
   "execution_count": 7,
   "id": "83951cc1-30f9-4152-9924-de1bfa7e36b4",
   "metadata": {},
   "outputs": [
    {
     "data": {
      "text/html": [
       "<div>\n",
       "<style scoped>\n",
       "    .dataframe tbody tr th:only-of-type {\n",
       "        vertical-align: middle;\n",
       "    }\n",
       "\n",
       "    .dataframe tbody tr th {\n",
       "        vertical-align: top;\n",
       "    }\n",
       "\n",
       "    .dataframe thead th {\n",
       "        text-align: right;\n",
       "    }\n",
       "</style>\n",
       "<table border=\"1\" class=\"dataframe\">\n",
       "  <thead>\n",
       "    <tr style=\"text-align: right;\">\n",
       "      <th></th>\n",
       "      <th>review_id</th>\n",
       "      <th>text</th>\n",
       "    </tr>\n",
       "  </thead>\n",
       "  <tbody>\n",
       "    <tr>\n",
       "      <th>0</th>\n",
       "      <td>txt145</td>\n",
       "      <td>The software had a steep learning curve at fir...</td>\n",
       "    </tr>\n",
       "    <tr>\n",
       "      <th>1</th>\n",
       "      <td>txt327</td>\n",
       "      <td>I'm really impressed with the user interface o...</td>\n",
       "    </tr>\n",
       "    <tr>\n",
       "      <th>2</th>\n",
       "      <td>txt209</td>\n",
       "      <td>The latest update to the software fixed severa...</td>\n",
       "    </tr>\n",
       "    <tr>\n",
       "      <th>3</th>\n",
       "      <td>txt825</td>\n",
       "      <td>I encountered a few glitches while using the s...</td>\n",
       "    </tr>\n",
       "    <tr>\n",
       "      <th>4</th>\n",
       "      <td>txt878</td>\n",
       "      <td>I was skeptical about trying the software init...</td>\n",
       "    </tr>\n",
       "  </tbody>\n",
       "</table>\n",
       "</div>"
      ],
      "text/plain": [
       "  review_id                                               text\n",
       "0    txt145  The software had a steep learning curve at fir...\n",
       "1    txt327  I'm really impressed with the user interface o...\n",
       "2    txt209  The latest update to the software fixed severa...\n",
       "3    txt825  I encountered a few glitches while using the s...\n",
       "4    txt878  I was skeptical about trying the software init..."
      ]
     },
     "execution_count": 7,
     "metadata": {},
     "output_type": "execute_result"
    }
   ],
   "source": [
    "df = pd.read_csv(\"C:/Users/ariji/OneDrive/Desktop/Data/reviews.csv\")\n",
    "df.head()"
   ]
  },
  {
   "cell_type": "code",
   "execution_count": 10,
   "id": "97fbad3f-d226-41ed-a4c5-6d9bec668ba6",
   "metadata": {},
   "outputs": [],
   "source": [
    "\"\"\"\n",
    "We prepare a translation table using the str.maketrans() function from the string module. We set the translator translation table to remove all\n",
    "punctuation marks from the input text. Here’s what each parameter in the str.maketrans() function does:\n",
    "\n",
    "The first parameter is an empty string (''). This represents the characters that we want to replace. Since it’s an empty string, no characters will\n",
    "be replaced with other characters.\n",
    "\n",
    "The second parameter is also an empty string (''). This represents the characters that we want to remove. In this case, the characters from the\n",
    "string.punctuation string (containing all punctuation characters) will be removed.\n",
    "\n",
    "The third argument, string.punctuation, is a string containing all punctuation characters provided by the string module. It contains a collection \n",
    "of punctuation characters such as !\"#$%&'()*+,-./:;<=>?@[\\]^_{|}~.\n",
    "\n",
    "We then use the translation table created in the previous line (translator) to remove the punctuation characters from the text by using the \n",
    "str.translate() method.\n",
    "\n",
    "We return the cleaned text.\n",
    "\n",
    "\"\"\"\n",
    "import string\n",
    "\n",
    "def remove_punctuation(text): \n",
    "    translator = str.maketrans('', '', string.punctuation) \n",
    "    text = text.translate(translator)\n",
    "    return text \n"
   ]
  },
  {
   "cell_type": "code",
   "execution_count": 11,
   "id": "5354f342-d3d1-4eab-8951-dfcacacbcbf1",
   "metadata": {},
   "outputs": [
    {
     "name": "stdout",
     "output_type": "stream",
     "text": [
      "0     The software had a steep learning curve at fir...\n",
      "1     Im really impressed with the user interface of...\n",
      "2     The latest update to the software fixed severa...\n",
      "3     I encountered a few glitches while using the s...\n",
      "4     I was skeptical about trying the software init...\n",
      "5     The analytics features have provided us with v...\n",
      "6     I appreciate the regular updates that the soft...\n",
      "7     I attended a training session for the software...\n",
      "8     The software documentation could be more compr...\n",
      "9     Ive recommended the software to colleagues due...\n",
      "10    The software integration with thirdparty plugi...\n",
      "11    Im looking forward to the upcoming release of ...\n",
      "12    The user community is active and supportive ma...\n",
      "13    Ive been using the software for a while now an...\n",
      "14    The user interface could use some modernizatio...\n",
      "15    I went for a run and the software did a good j...\n",
      "Name: text, dtype: object\n"
     ]
    }
   ],
   "source": [
    "df['text'] = df['text'].apply(remove_punctuation)\n",
    "print(df['text'])"
   ]
  },
  {
   "cell_type": "code",
   "execution_count": null,
   "id": "c767b053-9c83-48c8-9565-6265e7e393a7",
   "metadata": {},
   "outputs": [],
   "source": [
    "# Handling Special Characters"
   ]
  },
  {
   "cell_type": "markdown",
   "id": "9266cec0-4ba0-47ab-b0c7-9173b0cced6e",
   "metadata": {},
   "source": [
    "## 1. Removing special characters"
   ]
  },
  {
   "cell_type": "code",
   "execution_count": 12,
   "id": "bc747900-4051-4b1b-a409-81a38a7b954e",
   "metadata": {},
   "outputs": [],
   "source": [
    "import pandas as pd\n",
    "from unidecode import unidecode\n",
    "import re"
   ]
  },
  {
   "cell_type": "code",
   "execution_count": 13,
   "id": "7461b4d3-e32f-4222-aeaf-cd8d26814893",
   "metadata": {},
   "outputs": [
    {
     "data": {
      "text/html": [
       "<div>\n",
       "<style scoped>\n",
       "    .dataframe tbody tr th:only-of-type {\n",
       "        vertical-align: middle;\n",
       "    }\n",
       "\n",
       "    .dataframe tbody tr th {\n",
       "        vertical-align: top;\n",
       "    }\n",
       "\n",
       "    .dataframe thead th {\n",
       "        text-align: right;\n",
       "    }\n",
       "</style>\n",
       "<table border=\"1\" class=\"dataframe\">\n",
       "  <thead>\n",
       "    <tr style=\"text-align: right;\">\n",
       "      <th></th>\n",
       "      <th>review_id</th>\n",
       "      <th>text</th>\n",
       "    </tr>\n",
       "  </thead>\n",
       "  <tbody>\n",
       "    <tr>\n",
       "      <th>0</th>\n",
       "      <td>txt145</td>\n",
       "      <td>The software had a steep learning curve at fir...</td>\n",
       "    </tr>\n",
       "    <tr>\n",
       "      <th>1</th>\n",
       "      <td>txt327</td>\n",
       "      <td>I'm really impressed with the user interface o...</td>\n",
       "    </tr>\n",
       "    <tr>\n",
       "      <th>2</th>\n",
       "      <td>txt209</td>\n",
       "      <td>The latest update to the software fixed severa...</td>\n",
       "    </tr>\n",
       "    <tr>\n",
       "      <th>3</th>\n",
       "      <td>txt825</td>\n",
       "      <td>I encountered a few glitches while using the s...</td>\n",
       "    </tr>\n",
       "    <tr>\n",
       "      <th>4</th>\n",
       "      <td>txt878</td>\n",
       "      <td>I was skeptical about trying the software init...</td>\n",
       "    </tr>\n",
       "  </tbody>\n",
       "</table>\n",
       "</div>"
      ],
      "text/plain": [
       "  review_id                                               text\n",
       "0    txt145  The software had a steep learning curve at fir...\n",
       "1    txt327  I'm really impressed with the user interface o...\n",
       "2    txt209  The latest update to the software fixed severa...\n",
       "3    txt825  I encountered a few glitches while using the s...\n",
       "4    txt878  I was skeptical about trying the software init..."
      ]
     },
     "execution_count": 13,
     "metadata": {},
     "output_type": "execute_result"
    }
   ],
   "source": [
    "df = pd.read_csv(\"C:/Users/ariji/OneDrive/Desktop/Data/reviews.csv\")\n",
    "df.head()"
   ]
  },
  {
   "cell_type": "code",
   "execution_count": 14,
   "id": "515163bf-fca2-47c4-8073-d40acf2071e2",
   "metadata": {},
   "outputs": [
    {
     "name": "stdout",
     "output_type": "stream",
     "text": [
      "0     The software had a steep learning curve at fir...\n",
      "1     Im really impressed with the user interface of...\n",
      "2     The latest update to the software fixed severa...\n",
      "3     I encountered a few glitches while using the s...\n",
      "4     I was skeptical about trying the software init...\n",
      "5     The analytics features have provided us with v...\n",
      "6     I appreciate the regular updates that the soft...\n",
      "7     I attended a training session for the software...\n",
      "8     The software documentation could be more compr...\n",
      "9     Ive recommended the software to colleagues due...\n",
      "10    The software integration with thirdparty plugi...\n",
      "11    Im looking forward to the upcoming release of ...\n",
      "12    The user community is active and supportive ma...\n",
      "13    Ive been using the software for a while now an...\n",
      "14    The user interface could use some modernizatio...\n",
      "15    I went for a run and the software did a good j...\n",
      "Name: text, dtype: object\n"
     ]
    }
   ],
   "source": [
    "df['text'] = df['text'].apply(lambda x: re.sub(r'[^a-zA-Z0-9\\s]', '', unidecode(x)))\n",
    "print(df['text'])"
   ]
  },
  {
   "cell_type": "markdown",
   "id": "14267444-e01d-4e3e-aeda-9cb2217ee86a",
   "metadata": {},
   "source": [
    "## 2. Performing emoji to text conversion"
   ]
  },
  {
   "cell_type": "code",
   "execution_count": 16,
   "id": "9f8afcce-596d-4971-8bf8-b7eef93468a4",
   "metadata": {},
   "outputs": [
    {
     "name": "stdout",
     "output_type": "stream",
     "text": [
      "Collecting emoji\n",
      "  Downloading emoji-2.14.0-py3-none-any.whl.metadata (5.7 kB)\n",
      "Downloading emoji-2.14.0-py3-none-any.whl (586 kB)\n",
      "   ---------------------------------------- 0.0/586.9 kB ? eta -:--:--\n",
      "   -- ------------------------------------ 30.7/586.9 kB 660.6 kB/s eta 0:00:01\n",
      "   ----- ---------------------------------- 81.9/586.9 kB 1.2 MB/s eta 0:00:01\n",
      "   ------------- -------------------------- 194.6/586.9 kB 1.5 MB/s eta 0:00:01\n",
      "   ------------------ --------------------- 276.5/586.9 kB 1.7 MB/s eta 0:00:01\n",
      "   ------------------------- -------------- 368.6/586.9 kB 1.8 MB/s eta 0:00:01\n",
      "   --------------------------------- ------ 491.5/586.9 kB 1.8 MB/s eta 0:00:01\n",
      "   ---------------------------------------- 586.9/586.9 kB 1.9 MB/s eta 0:00:00\n",
      "Installing collected packages: emoji\n",
      "Successfully installed emoji-2.14.0\n"
     ]
    }
   ],
   "source": [
    "! pip install emoji"
   ]
  },
  {
   "cell_type": "code",
   "execution_count": 17,
   "id": "e6a57a72-3059-4cf4-809a-2eb2d4508e08",
   "metadata": {},
   "outputs": [],
   "source": [
    "import pandas as pd\n",
    "import emoji"
   ]
  },
  {
   "cell_type": "code",
   "execution_count": 18,
   "id": "331d96e5-e4e0-4c94-9731-cd666cf5f3aa",
   "metadata": {},
   "outputs": [
    {
     "data": {
      "text/html": [
       "<div>\n",
       "<style scoped>\n",
       "    .dataframe tbody tr th:only-of-type {\n",
       "        vertical-align: middle;\n",
       "    }\n",
       "\n",
       "    .dataframe tbody tr th {\n",
       "        vertical-align: top;\n",
       "    }\n",
       "\n",
       "    .dataframe thead th {\n",
       "        text-align: right;\n",
       "    }\n",
       "</style>\n",
       "<table border=\"1\" class=\"dataframe\">\n",
       "  <thead>\n",
       "    <tr style=\"text-align: right;\">\n",
       "      <th></th>\n",
       "      <th>review_id</th>\n",
       "      <th>text</th>\n",
       "    </tr>\n",
       "  </thead>\n",
       "  <tbody>\n",
       "    <tr>\n",
       "      <th>0</th>\n",
       "      <td>txt145</td>\n",
       "      <td>The software had a steep learning curve at fir...</td>\n",
       "    </tr>\n",
       "    <tr>\n",
       "      <th>1</th>\n",
       "      <td>txt327</td>\n",
       "      <td>I'm really impressed with the user interface o...</td>\n",
       "    </tr>\n",
       "    <tr>\n",
       "      <th>2</th>\n",
       "      <td>txt209</td>\n",
       "      <td>The latest update to the software fixed severa...</td>\n",
       "    </tr>\n",
       "    <tr>\n",
       "      <th>3</th>\n",
       "      <td>txt825</td>\n",
       "      <td>I encountered a few glitches while using the s...</td>\n",
       "    </tr>\n",
       "    <tr>\n",
       "      <th>4</th>\n",
       "      <td>txt878</td>\n",
       "      <td>I was skeptical about trying the software init...</td>\n",
       "    </tr>\n",
       "  </tbody>\n",
       "</table>\n",
       "</div>"
      ],
      "text/plain": [
       "  review_id                                               text\n",
       "0    txt145  The software had a steep learning curve at fir...\n",
       "1    txt327  I'm really impressed with the user interface o...\n",
       "2    txt209  The latest update to the software fixed severa...\n",
       "3    txt825  I encountered a few glitches while using the s...\n",
       "4    txt878  I was skeptical about trying the software init..."
      ]
     },
     "execution_count": 18,
     "metadata": {},
     "output_type": "execute_result"
    }
   ],
   "source": [
    "df = pd.read_csv(\"C:/Users/ariji/OneDrive/Desktop/Data/reviews.csv\")\n",
    "df.head()"
   ]
  },
  {
   "cell_type": "code",
   "execution_count": 19,
   "id": "7436fdd2-db36-4132-8653-42e6e49a91df",
   "metadata": {},
   "outputs": [],
   "source": [
    "def emoji_to_text(text):\n",
    "    return emoji.demojize(text) "
   ]
  },
  {
   "cell_type": "code",
   "execution_count": 20,
   "id": "2930ba08-23fa-40d5-bd6b-a498219ff8bb",
   "metadata": {},
   "outputs": [
    {
     "name": "stdout",
     "output_type": "stream",
     "text": [
      "0     The software had a steep learning curve at fir...\n",
      "1     I'm really impressed with the user interface o...\n",
      "2     The latest update to the software fixed severa...\n",
      "3     I encountered a few glitches while using the s...\n",
      "4     I was skeptical about trying the software init...\n",
      "5     The analytics features have provided us with v...\n",
      "6     I appreciate the regular updates that the soft...\n",
      "7     I attended a training session for the software...\n",
      "8     The software documentation could be more compr...\n",
      "9     I've recommended the software to colleagues du...\n",
      "10    The software integration with third-party plug...\n",
      "11    I'm looking forward to the upcoming release of...\n",
      "12    The user community is active and supportive, m...\n",
      "13    I've been using the software for a while now, ...\n",
      "14    The user interface could use some modernizatio...\n",
      "15    I went for a run and the software did a good j...\n",
      "Name: text, dtype: object\n"
     ]
    }
   ],
   "source": [
    "df['text'] = df['text'].apply(emoji_to_text)\n",
    "print(df['text'])"
   ]
  },
  {
   "cell_type": "code",
   "execution_count": null,
   "id": "083bdee6-3330-477b-ae2a-144b1da47a6a",
   "metadata": {},
   "outputs": [],
   "source": []
  },
  {
   "cell_type": "code",
   "execution_count": null,
   "id": "bef92e3c-32f3-4d06-9042-3629d7bf5596",
   "metadata": {},
   "outputs": [],
   "source": []
  },
  {
   "cell_type": "code",
   "execution_count": null,
   "id": "a0718611-4d87-4423-ad2d-d7dfbe5bc5e1",
   "metadata": {},
   "outputs": [],
   "source": []
  },
  {
   "cell_type": "code",
   "execution_count": null,
   "id": "26e5862a-1408-46a3-88e0-645b855b717b",
   "metadata": {},
   "outputs": [],
   "source": []
  },
  {
   "cell_type": "code",
   "execution_count": null,
   "id": "e9d2ab21-c01f-4069-8539-ad29a3bcabbd",
   "metadata": {},
   "outputs": [],
   "source": []
  },
  {
   "cell_type": "code",
   "execution_count": null,
   "id": "e319d131-5068-46a1-9190-3b08c5d2a428",
   "metadata": {},
   "outputs": [],
   "source": []
  },
  {
   "cell_type": "code",
   "execution_count": null,
   "id": "55def209-970f-4108-b305-b0c5f79eaf83",
   "metadata": {},
   "outputs": [],
   "source": []
  }
 ],
 "metadata": {
  "kernelspec": {
   "display_name": "Python 3 (ipykernel)",
   "language": "python",
   "name": "python3"
  },
  "language_info": {
   "codemirror_mode": {
    "name": "ipython",
    "version": 3
   },
   "file_extension": ".py",
   "mimetype": "text/x-python",
   "name": "python",
   "nbconvert_exporter": "python",
   "pygments_lexer": "ipython3",
   "version": "3.11.7"
  }
 },
 "nbformat": 4,
 "nbformat_minor": 5
}
